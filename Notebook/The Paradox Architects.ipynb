{
 "cells": [
  {
   "cell_type": "markdown",
   "id": "114f01c4",
   "metadata": {},
   "source": [
    "### Package Installation"
   ]
  },
  {
   "cell_type": "code",
   "execution_count": 27,
   "id": "e24af5e1",
   "metadata": {},
   "outputs": [
    {
     "name": "stdout",
     "output_type": "stream",
     "text": [
      "Requirement already satisfied: alembic==1.16.3 in c:\\users\\user\\appdata\\local\\packages\\pythonsoftwarefoundation.python.3.11_qbz5n2kfra8p0\\localcache\\local-packages\\python311\\site-packages (from -r requirements.txt (line 1)) (1.16.3)\n",
      "Requirement already satisfied: asttokens==3.0.0 in c:\\users\\user\\appdata\\local\\packages\\pythonsoftwarefoundation.python.3.11_qbz5n2kfra8p0\\localcache\\local-packages\\python311\\site-packages (from -r requirements.txt (line 2)) (3.0.0)\n",
      "Requirement already satisfied: catboost==1.2.8 in c:\\users\\user\\appdata\\local\\packages\\pythonsoftwarefoundation.python.3.11_qbz5n2kfra8p0\\localcache\\local-packages\\python311\\site-packages (from -r requirements.txt (line 3)) (1.2.8)\n",
      "Requirement already satisfied: cloudpickle==3.1.1 in c:\\users\\user\\appdata\\local\\packages\\pythonsoftwarefoundation.python.3.11_qbz5n2kfra8p0\\localcache\\local-packages\\python311\\site-packages (from -r requirements.txt (line 4)) (3.1.1)\n",
      "Requirement already satisfied: colorama==0.4.6 in c:\\users\\user\\appdata\\local\\packages\\pythonsoftwarefoundation.python.3.11_qbz5n2kfra8p0\\localcache\\local-packages\\python311\\site-packages (from -r requirements.txt (line 5)) (0.4.6)\n",
      "Requirement already satisfied: colorlog==6.9.0 in c:\\users\\user\\appdata\\local\\packages\\pythonsoftwarefoundation.python.3.11_qbz5n2kfra8p0\\localcache\\local-packages\\python311\\site-packages (from -r requirements.txt (line 6)) (6.9.0)\n",
      "Requirement already satisfied: comm==0.2.2 in c:\\users\\user\\appdata\\local\\packages\\pythonsoftwarefoundation.python.3.11_qbz5n2kfra8p0\\localcache\\local-packages\\python311\\site-packages (from -r requirements.txt (line 7)) (0.2.2)\n",
      "Requirement already satisfied: contourpy==1.3.2 in c:\\users\\user\\appdata\\local\\packages\\pythonsoftwarefoundation.python.3.11_qbz5n2kfra8p0\\localcache\\local-packages\\python311\\site-packages (from -r requirements.txt (line 8)) (1.3.2)\n",
      "Requirement already satisfied: cycler==0.12.1 in c:\\users\\user\\appdata\\local\\packages\\pythonsoftwarefoundation.python.3.11_qbz5n2kfra8p0\\localcache\\local-packages\\python311\\site-packages (from -r requirements.txt (line 9)) (0.12.1)\n",
      "Requirement already satisfied: debugpy==1.8.14 in c:\\users\\user\\appdata\\local\\packages\\pythonsoftwarefoundation.python.3.11_qbz5n2kfra8p0\\localcache\\local-packages\\python311\\site-packages (from -r requirements.txt (line 10)) (1.8.14)\n",
      "Requirement already satisfied: decorator==5.2.1 in c:\\users\\user\\appdata\\local\\packages\\pythonsoftwarefoundation.python.3.11_qbz5n2kfra8p0\\localcache\\local-packages\\python311\\site-packages (from -r requirements.txt (line 11)) (5.2.1)\n",
      "Requirement already satisfied: executing==2.2.0 in c:\\users\\user\\appdata\\local\\packages\\pythonsoftwarefoundation.python.3.11_qbz5n2kfra8p0\\localcache\\local-packages\\python311\\site-packages (from -r requirements.txt (line 12)) (2.2.0)\n",
      "Requirement already satisfied: fonttools==4.58.5 in c:\\users\\user\\appdata\\local\\packages\\pythonsoftwarefoundation.python.3.11_qbz5n2kfra8p0\\localcache\\local-packages\\python311\\site-packages (from -r requirements.txt (line 13)) (4.58.5)\n",
      "Requirement already satisfied: graphviz==0.21 in c:\\users\\user\\appdata\\local\\packages\\pythonsoftwarefoundation.python.3.11_qbz5n2kfra8p0\\localcache\\local-packages\\python311\\site-packages (from -r requirements.txt (line 14)) (0.21)\n",
      "Requirement already satisfied: greenlet==3.2.3 in c:\\users\\user\\appdata\\local\\packages\\pythonsoftwarefoundation.python.3.11_qbz5n2kfra8p0\\localcache\\local-packages\\python311\\site-packages (from -r requirements.txt (line 15)) (3.2.3)\n",
      "Requirement already satisfied: imbalanced-learn==0.13.0 in c:\\users\\user\\appdata\\local\\packages\\pythonsoftwarefoundation.python.3.11_qbz5n2kfra8p0\\localcache\\local-packages\\python311\\site-packages (from -r requirements.txt (line 16)) (0.13.0)\n",
      "Requirement already satisfied: ipykernel==6.29.5 in c:\\users\\user\\appdata\\local\\packages\\pythonsoftwarefoundation.python.3.11_qbz5n2kfra8p0\\localcache\\local-packages\\python311\\site-packages (from -r requirements.txt (line 17)) (6.29.5)\n",
      "Requirement already satisfied: ipython==9.4.0 in c:\\users\\user\\appdata\\local\\packages\\pythonsoftwarefoundation.python.3.11_qbz5n2kfra8p0\\localcache\\local-packages\\python311\\site-packages (from -r requirements.txt (line 18)) (9.4.0)\n",
      "Requirement already satisfied: ipython_pygments_lexers==1.1.1 in c:\\users\\user\\appdata\\local\\packages\\pythonsoftwarefoundation.python.3.11_qbz5n2kfra8p0\\localcache\\local-packages\\python311\\site-packages (from -r requirements.txt (line 19)) (1.1.1)\n",
      "Requirement already satisfied: jedi==0.19.2 in c:\\users\\user\\appdata\\local\\packages\\pythonsoftwarefoundation.python.3.11_qbz5n2kfra8p0\\localcache\\local-packages\\python311\\site-packages (from -r requirements.txt (line 20)) (0.19.2)\n",
      "Requirement already satisfied: joblib==1.5.1 in c:\\users\\user\\appdata\\local\\packages\\pythonsoftwarefoundation.python.3.11_qbz5n2kfra8p0\\localcache\\local-packages\\python311\\site-packages (from -r requirements.txt (line 21)) (1.5.1)\n",
      "Requirement already satisfied: jupyter_client==8.6.3 in c:\\users\\user\\appdata\\local\\packages\\pythonsoftwarefoundation.python.3.11_qbz5n2kfra8p0\\localcache\\local-packages\\python311\\site-packages (from -r requirements.txt (line 22)) (8.6.3)\n",
      "Requirement already satisfied: jupyter_core==5.8.1 in c:\\users\\user\\appdata\\local\\packages\\pythonsoftwarefoundation.python.3.11_qbz5n2kfra8p0\\localcache\\local-packages\\python311\\site-packages (from -r requirements.txt (line 23)) (5.8.1)\n",
      "Requirement already satisfied: kiwisolver==1.4.8 in c:\\users\\user\\appdata\\local\\packages\\pythonsoftwarefoundation.python.3.11_qbz5n2kfra8p0\\localcache\\local-packages\\python311\\site-packages (from -r requirements.txt (line 24)) (1.4.8)\n",
      "Requirement already satisfied: lightgbm==4.6.0 in c:\\users\\user\\appdata\\local\\packages\\pythonsoftwarefoundation.python.3.11_qbz5n2kfra8p0\\localcache\\local-packages\\python311\\site-packages (from -r requirements.txt (line 25)) (4.6.0)\n",
      "Requirement already satisfied: llvmlite==0.44.0 in c:\\users\\user\\appdata\\local\\packages\\pythonsoftwarefoundation.python.3.11_qbz5n2kfra8p0\\localcache\\local-packages\\python311\\site-packages (from -r requirements.txt (line 26)) (0.44.0)\n",
      "Requirement already satisfied: Mako==1.3.10 in c:\\users\\user\\appdata\\local\\packages\\pythonsoftwarefoundation.python.3.11_qbz5n2kfra8p0\\localcache\\local-packages\\python311\\site-packages (from -r requirements.txt (line 27)) (1.3.10)\n",
      "Requirement already satisfied: MarkupSafe==3.0.2 in c:\\users\\user\\appdata\\local\\packages\\pythonsoftwarefoundation.python.3.11_qbz5n2kfra8p0\\localcache\\local-packages\\python311\\site-packages (from -r requirements.txt (line 28)) (3.0.2)\n",
      "Requirement already satisfied: matplotlib==3.10.3 in c:\\users\\user\\appdata\\local\\packages\\pythonsoftwarefoundation.python.3.11_qbz5n2kfra8p0\\localcache\\local-packages\\python311\\site-packages (from -r requirements.txt (line 29)) (3.10.3)\n",
      "Requirement already satisfied: matplotlib-inline==0.1.7 in c:\\users\\user\\appdata\\local\\packages\\pythonsoftwarefoundation.python.3.11_qbz5n2kfra8p0\\localcache\\local-packages\\python311\\site-packages (from -r requirements.txt (line 30)) (0.1.7)\n",
      "Requirement already satisfied: narwhals==1.46.0 in c:\\users\\user\\appdata\\local\\packages\\pythonsoftwarefoundation.python.3.11_qbz5n2kfra8p0\\localcache\\local-packages\\python311\\site-packages (from -r requirements.txt (line 31)) (1.46.0)\n",
      "Requirement already satisfied: nest-asyncio==1.6.0 in c:\\users\\user\\appdata\\local\\packages\\pythonsoftwarefoundation.python.3.11_qbz5n2kfra8p0\\localcache\\local-packages\\python311\\site-packages (from -r requirements.txt (line 32)) (1.6.0)\n",
      "Requirement already satisfied: numba==0.61.2 in c:\\users\\user\\appdata\\local\\packages\\pythonsoftwarefoundation.python.3.11_qbz5n2kfra8p0\\localcache\\local-packages\\python311\\site-packages (from -r requirements.txt (line 33)) (0.61.2)\n",
      "Requirement already satisfied: numpy==2.2.6 in c:\\users\\user\\appdata\\local\\packages\\pythonsoftwarefoundation.python.3.11_qbz5n2kfra8p0\\localcache\\local-packages\\python311\\site-packages (from -r requirements.txt (line 34)) (2.2.6)\n",
      "Requirement already satisfied: optuna==4.4.0 in c:\\users\\user\\appdata\\local\\packages\\pythonsoftwarefoundation.python.3.11_qbz5n2kfra8p0\\localcache\\local-packages\\python311\\site-packages (from -r requirements.txt (line 35)) (4.4.0)\n",
      "Requirement already satisfied: packaging==25.0 in c:\\users\\user\\appdata\\local\\packages\\pythonsoftwarefoundation.python.3.11_qbz5n2kfra8p0\\localcache\\local-packages\\python311\\site-packages (from -r requirements.txt (line 36)) (25.0)\n",
      "Requirement already satisfied: pandas==2.3.0 in c:\\users\\user\\appdata\\local\\packages\\pythonsoftwarefoundation.python.3.11_qbz5n2kfra8p0\\localcache\\local-packages\\python311\\site-packages (from -r requirements.txt (line 37)) (2.3.0)\n",
      "Requirement already satisfied: parso==0.8.4 in c:\\users\\user\\appdata\\local\\packages\\pythonsoftwarefoundation.python.3.11_qbz5n2kfra8p0\\localcache\\local-packages\\python311\\site-packages (from -r requirements.txt (line 38)) (0.8.4)\n",
      "Requirement already satisfied: pillow==11.3.0 in c:\\users\\user\\appdata\\local\\packages\\pythonsoftwarefoundation.python.3.11_qbz5n2kfra8p0\\localcache\\local-packages\\python311\\site-packages (from -r requirements.txt (line 39)) (11.3.0)\n",
      "Requirement already satisfied: platformdirs==4.3.8 in c:\\users\\user\\appdata\\local\\packages\\pythonsoftwarefoundation.python.3.11_qbz5n2kfra8p0\\localcache\\local-packages\\python311\\site-packages (from -r requirements.txt (line 40)) (4.3.8)\n",
      "Requirement already satisfied: plotly==6.2.0 in c:\\users\\user\\appdata\\local\\packages\\pythonsoftwarefoundation.python.3.11_qbz5n2kfra8p0\\localcache\\local-packages\\python311\\site-packages (from -r requirements.txt (line 41)) (6.2.0)\n",
      "Requirement already satisfied: prompt_toolkit==3.0.51 in c:\\users\\user\\appdata\\local\\packages\\pythonsoftwarefoundation.python.3.11_qbz5n2kfra8p0\\localcache\\local-packages\\python311\\site-packages (from -r requirements.txt (line 42)) (3.0.51)\n",
      "Requirement already satisfied: psutil==7.0.0 in c:\\users\\user\\appdata\\local\\packages\\pythonsoftwarefoundation.python.3.11_qbz5n2kfra8p0\\localcache\\local-packages\\python311\\site-packages (from -r requirements.txt (line 43)) (7.0.0)\n",
      "Requirement already satisfied: pure_eval==0.2.3 in c:\\users\\user\\appdata\\local\\packages\\pythonsoftwarefoundation.python.3.11_qbz5n2kfra8p0\\localcache\\local-packages\\python311\\site-packages (from -r requirements.txt (line 44)) (0.2.3)\n",
      "Requirement already satisfied: Pygments==2.19.2 in c:\\users\\user\\appdata\\local\\packages\\pythonsoftwarefoundation.python.3.11_qbz5n2kfra8p0\\localcache\\local-packages\\python311\\site-packages (from -r requirements.txt (line 45)) (2.19.2)\n",
      "Requirement already satisfied: pyparsing==3.2.3 in c:\\users\\user\\appdata\\local\\packages\\pythonsoftwarefoundation.python.3.11_qbz5n2kfra8p0\\localcache\\local-packages\\python311\\site-packages (from -r requirements.txt (line 46)) (3.2.3)\n",
      "Requirement already satisfied: python-dateutil==2.9.0.post0 in c:\\users\\user\\appdata\\local\\packages\\pythonsoftwarefoundation.python.3.11_qbz5n2kfra8p0\\localcache\\local-packages\\python311\\site-packages (from -r requirements.txt (line 47)) (2.9.0.post0)\n",
      "Requirement already satisfied: pytz==2025.2 in c:\\users\\user\\appdata\\local\\packages\\pythonsoftwarefoundation.python.3.11_qbz5n2kfra8p0\\localcache\\local-packages\\python311\\site-packages (from -r requirements.txt (line 48)) (2025.2)\n",
      "Requirement already satisfied: pywin32==310 in c:\\users\\user\\appdata\\local\\packages\\pythonsoftwarefoundation.python.3.11_qbz5n2kfra8p0\\localcache\\local-packages\\python311\\site-packages (from -r requirements.txt (line 49)) (310)\n",
      "Requirement already satisfied: PyYAML==6.0.2 in c:\\users\\user\\appdata\\local\\packages\\pythonsoftwarefoundation.python.3.11_qbz5n2kfra8p0\\localcache\\local-packages\\python311\\site-packages (from -r requirements.txt (line 50)) (6.0.2)\n",
      "Requirement already satisfied: pyzmq==27.0.0 in c:\\users\\user\\appdata\\local\\packages\\pythonsoftwarefoundation.python.3.11_qbz5n2kfra8p0\\localcache\\local-packages\\python311\\site-packages (from -r requirements.txt (line 51)) (27.0.0)\n",
      "Requirement already satisfied: scikit-learn==1.6.1 in c:\\users\\user\\appdata\\local\\packages\\pythonsoftwarefoundation.python.3.11_qbz5n2kfra8p0\\localcache\\local-packages\\python311\\site-packages (from -r requirements.txt (line 52)) (1.6.1)\n",
      "Requirement already satisfied: scipy==1.16.0 in c:\\users\\user\\appdata\\local\\packages\\pythonsoftwarefoundation.python.3.11_qbz5n2kfra8p0\\localcache\\local-packages\\python311\\site-packages (from -r requirements.txt (line 53)) (1.16.0)\n",
      "Requirement already satisfied: seaborn==0.13.2 in c:\\users\\user\\appdata\\local\\packages\\pythonsoftwarefoundation.python.3.11_qbz5n2kfra8p0\\localcache\\local-packages\\python311\\site-packages (from -r requirements.txt (line 54)) (0.13.2)\n",
      "Requirement already satisfied: shap==0.48.0 in c:\\users\\user\\appdata\\local\\packages\\pythonsoftwarefoundation.python.3.11_qbz5n2kfra8p0\\localcache\\local-packages\\python311\\site-packages (from -r requirements.txt (line 55)) (0.48.0)\n",
      "Requirement already satisfied: six==1.17.0 in c:\\users\\user\\appdata\\local\\packages\\pythonsoftwarefoundation.python.3.11_qbz5n2kfra8p0\\localcache\\local-packages\\python311\\site-packages (from -r requirements.txt (line 56)) (1.17.0)\n",
      "Requirement already satisfied: sklearn-compat==0.1.3 in c:\\users\\user\\appdata\\local\\packages\\pythonsoftwarefoundation.python.3.11_qbz5n2kfra8p0\\localcache\\local-packages\\python311\\site-packages (from -r requirements.txt (line 57)) (0.1.3)\n",
      "Requirement already satisfied: slicer==0.0.8 in c:\\users\\user\\appdata\\local\\packages\\pythonsoftwarefoundation.python.3.11_qbz5n2kfra8p0\\localcache\\local-packages\\python311\\site-packages (from -r requirements.txt (line 58)) (0.0.8)\n",
      "Requirement already satisfied: SQLAlchemy==2.0.41 in c:\\users\\user\\appdata\\local\\packages\\pythonsoftwarefoundation.python.3.11_qbz5n2kfra8p0\\localcache\\local-packages\\python311\\site-packages (from -r requirements.txt (line 59)) (2.0.41)\n",
      "Requirement already satisfied: stack-data==0.6.3 in c:\\users\\user\\appdata\\local\\packages\\pythonsoftwarefoundation.python.3.11_qbz5n2kfra8p0\\localcache\\local-packages\\python311\\site-packages (from -r requirements.txt (line 60)) (0.6.3)\n",
      "Requirement already satisfied: threadpoolctl==3.6.0 in c:\\users\\user\\appdata\\local\\packages\\pythonsoftwarefoundation.python.3.11_qbz5n2kfra8p0\\localcache\\local-packages\\python311\\site-packages (from -r requirements.txt (line 61)) (3.6.0)\n",
      "Requirement already satisfied: tornado==6.5.1 in c:\\users\\user\\appdata\\local\\packages\\pythonsoftwarefoundation.python.3.11_qbz5n2kfra8p0\\localcache\\local-packages\\python311\\site-packages (from -r requirements.txt (line 62)) (6.5.1)\n",
      "Requirement already satisfied: tqdm==4.67.1 in c:\\users\\user\\appdata\\local\\packages\\pythonsoftwarefoundation.python.3.11_qbz5n2kfra8p0\\localcache\\local-packages\\python311\\site-packages (from -r requirements.txt (line 63)) (4.67.1)\n",
      "Requirement already satisfied: traitlets==5.14.3 in c:\\users\\user\\appdata\\local\\packages\\pythonsoftwarefoundation.python.3.11_qbz5n2kfra8p0\\localcache\\local-packages\\python311\\site-packages (from -r requirements.txt (line 64)) (5.14.3)\n",
      "Requirement already satisfied: typing_extensions==4.14.0 in c:\\users\\user\\appdata\\local\\packages\\pythonsoftwarefoundation.python.3.11_qbz5n2kfra8p0\\localcache\\local-packages\\python311\\site-packages (from -r requirements.txt (line 65)) (4.14.0)\n",
      "Requirement already satisfied: tzdata==2025.2 in c:\\users\\user\\appdata\\local\\packages\\pythonsoftwarefoundation.python.3.11_qbz5n2kfra8p0\\localcache\\local-packages\\python311\\site-packages (from -r requirements.txt (line 66)) (2025.2)\n",
      "Requirement already satisfied: wcwidth==0.2.13 in c:\\users\\user\\appdata\\local\\packages\\pythonsoftwarefoundation.python.3.11_qbz5n2kfra8p0\\localcache\\local-packages\\python311\\site-packages (from -r requirements.txt (line 67)) (0.2.13)\n",
      "Requirement already satisfied: xgboost==3.0.2 in c:\\users\\user\\appdata\\local\\packages\\pythonsoftwarefoundation.python.3.11_qbz5n2kfra8p0\\localcache\\local-packages\\python311\\site-packages (from -r requirements.txt (line 68)) (3.0.2)\n"
     ]
    },
    {
     "name": "stderr",
     "output_type": "stream",
     "text": [
      "\n",
      "[notice] A new release of pip is available: 24.0 -> 25.1.1\n",
      "[notice] To update, run: C:\\Users\\User\\AppData\\Local\\Microsoft\\WindowsApps\\PythonSoftwareFoundation.Python.3.11_qbz5n2kfra8p0\\python.exe -m pip install --upgrade pip\n",
      "\n",
      "[notice] A new release of pip is available: 24.0 -> 25.1.1\n",
      "[notice] To update, run: C:\\Users\\User\\AppData\\Local\\Microsoft\\WindowsApps\\PythonSoftwareFoundation.Python.3.11_qbz5n2kfra8p0\\python.exe -m pip install --upgrade pip\n"
     ]
    }
   ],
   "source": [
    "!pip install -r requirements.txt\n",
    "!pip install -q optuna"
   ]
  },
  {
   "cell_type": "markdown",
   "id": "e3a7b3d0",
   "metadata": {},
   "source": [
    "## Imports"
   ]
  },
  {
   "cell_type": "code",
   "execution_count": 28,
   "id": "e2154a88",
   "metadata": {},
   "outputs": [],
   "source": [
    "import numpy as np\n",
    "import pandas as pd\n",
    "import warnings\n",
    "import random\n",
    "import os\n",
    "from sklearn.model_selection import train_test_split, StratifiedKFold\n",
    "from sklearn.preprocessing import LabelEncoder\n",
    "from sklearn.metrics import average_precision_score\n",
    "import lightgbm as lgb\n",
    "import optuna\n",
    "\n",
    "from lightgbm import early_stopping, log_evaluation"
   ]
  },
  {
   "cell_type": "code",
   "execution_count": 29,
   "id": "cad21341",
   "metadata": {},
   "outputs": [],
   "source": [
    "warnings.filterwarnings('ignore')\n",
    "seed = 42\n",
    "random.seed(seed)\n",
    "np.random.seed(seed)\n",
    "os.environ[\"PYTHONHASHSEED\"] = str(seed)"
   ]
  },
  {
   "cell_type": "markdown",
   "id": "5a2595cc",
   "metadata": {},
   "source": [
    "## Loading Train and Test Data"
   ]
  },
  {
   "cell_type": "code",
   "execution_count": 61,
   "id": "c79fb31f",
   "metadata": {},
   "outputs": [
    {
     "name": "stdout",
     "output_type": "stream",
     "text": [
      "Data successfully loaded: (73286, 21) (15611, 17)\n"
     ]
    }
   ],
   "source": [
    "URL_TRAIN = \"https://www.mxhackathon.co.za/docs/TrainData.csv\"\n",
    "URL_TEST  = \"https://www.mxhackathon.co.za/docs/TestData.csv\"\n",
    "dfTrain = pd.read_csv(URL_TRAIN)\n",
    "dfTest  = pd.read_csv(URL_TEST)\n",
    "print(\"Data successfully loaded:\", dfTrain.shape, dfTest.shape)"
   ]
  },
  {
   "cell_type": "markdown",
   "id": "d5c986e5",
   "metadata": {},
   "source": [
    "##  Targeting and dropping Leakage Columns"
   ]
  },
  {
   "cell_type": "code",
   "execution_count": 31,
   "id": "409fd408",
   "metadata": {},
   "outputs": [],
   "source": [
    "leak_cols = [\"InFinanceProcessSystemApp\", \"FinanceApplied\", \"FinanceApproved\"]\n",
    "dfTrain.drop(columns=leak_cols, inplace=True, errors=\"ignore\")"
   ]
  },
  {
   "cell_type": "markdown",
   "id": "13fd1691",
   "metadata": {},
   "source": [
    "## Feature Engineering"
   ]
  },
  {
   "cell_type": "code",
   "execution_count": 32,
   "id": "d7f3fdab",
   "metadata": {},
   "outputs": [],
   "source": [
    "def feature_engineering(df):\n",
    "    df = df.copy()\n",
    "    df[\"DTLeadCreated\"] = pd.to_datetime(df[\"DTLeadCreated\"], errors='coerce')\n",
    "    df[\"DTLeadAllocated\"] = pd.to_datetime(df[\"DTLeadAllocated\"], errors='coerce')\n",
    "    \n",
    "    # Enhanced temporal features\n",
    "    df[\"LeadCreationHour\"] = df[\"DTLeadCreated\"].dt.hour\n",
    "    df[\"LeadCreationDay\"] = df[\"DTLeadCreated\"].dt.dayofweek\n",
    "    df[\"LeadCreationMonth\"] = df[\"DTLeadCreated\"].dt.month\n",
    "    df[\"LeadCreationDayOfMonth\"] = df[\"DTLeadCreated\"].dt.day\n",
    "    df[\"IsWeekend\"] = df[\"LeadCreationDay\"].isin([5, 6]).astype(int)\n",
    "    df[\"IsMorning\"] = (df[\"LeadCreationHour\"] >= 8) & (df[\"LeadCreationHour\"] <= 12)\n",
    "    df[\"IsAfternoon\"] = (df[\"LeadCreationHour\"] > 12) & (df[\"LeadCreationHour\"] <= 17)\n",
    "    df[\"IsEvening\"] = (df[\"LeadCreationHour\"] > 17) | (df[\"LeadCreationHour\"] < 8)\n",
    "    \n",
    "    # Time difference features\n",
    "    df[\"AllocationLagHours\"] = (df[\"DTLeadAllocated\"] - df[\"DTLeadCreated\"]).dt.total_seconds() / 3600\n",
    "    df[\"AllocationLagMinutes\"] = (df[\"DTLeadAllocated\"] - df[\"DTLeadCreated\"]).dt.total_seconds() / 60\n",
    "    \n",
    "    # Email domain features\n",
    "    df[\"EmailDomainLength\"] = df[\"Domain\"].astype(str).apply(len)\n",
    "    df[\"IsGmailOrYahoo\"] = df[\"Domain\"].str.lower().isin([\"gmail.com\", \"yahoo.com\"]).astype(int)\n",
    "    \n",
    "    # Dropping datetime and text-heavy columns\n",
    "    drop_cols = [\"DTLeadCreated\", \"DTLeadAllocated\", \"OBSFullName\", \"OBSEmail\", \"CustomerID\"]\n",
    "    df.drop(columns=drop_cols, inplace=True, errors=\"ignore\")\n",
    "    return df"
   ]
  },
  {
   "cell_type": "markdown",
   "id": "7b1fead6",
   "metadata": {},
   "source": [
    "### Applying feature_engineering to datasets"
   ]
  },
  {
   "cell_type": "code",
   "execution_count": 33,
   "id": "addb1151",
   "metadata": {},
   "outputs": [],
   "source": [
    "dfTrain = feature_engineering(dfTrain)\n",
    "dfTest = feature_engineering(dfTest)"
   ]
  },
  {
   "cell_type": "markdown",
   "id": "8a5b3a6c",
   "metadata": {},
   "source": [
    "## Adding frequency encoding for important categorical features"
   ]
  },
  {
   "cell_type": "code",
   "execution_count": 34,
   "id": "84ff7fa0",
   "metadata": {},
   "outputs": [],
   "source": [
    "for col in [\"LeadCreationHour\", \"LeadCreationDay\", \"Domain\", \"LeadSource\", \"Make\", \"Model\"]:\n",
    "    if col in dfTrain.columns:\n",
    "        freq = dfTrain[col].value_counts() / len(dfTrain)\n",
    "        dfTrain[col + \"_freq\"] = dfTrain[col].map(freq)\n",
    "        # Using training distributions for test data to avoid data leakage\n",
    "        dfTest[col + \"_freq\"] = dfTest[col].map(freq).fillna(0)"
   ]
  },
  {
   "cell_type": "markdown",
   "id": "11d8ccb7",
   "metadata": {},
   "source": [
    "## Creating interaction features"
   ]
  },
  {
   "cell_type": "code",
   "execution_count": 35,
   "id": "0c8001e0",
   "metadata": {},
   "outputs": [],
   "source": [
    "dfTrain[\"Lag_per_EmailLen\"] = dfTrain[\"AllocationLagHours\"] / (dfTrain[\"EmailDomainLength\"] + 1)\n",
    "dfTest[\"Lag_per_EmailLen\"] = dfTest[\"AllocationLagHours\"] / (dfTest[\"EmailDomainLength\"] + 1)\n",
    "\n",
    "if \"Make\" in dfTrain.columns and \"Model\" in dfTrain.columns:\n",
    "    dfTrain[\"Make_Model_Interaction\"] = dfTrain[\"Make\"].astype(str) + \"_\" + dfTrain[\"Model\"].astype(str)\n",
    "    dfTest[\"Make_Model_Interaction\"] = dfTest[\"Make\"].astype(str) + \"_\" + dfTest[\"Model\"].astype(str)"
   ]
  },
  {
   "cell_type": "code",
   "execution_count": 36,
   "id": "4da4cbb2",
   "metadata": {},
   "outputs": [],
   "source": [
    "all_data = pd.concat([dfTrain.drop(columns=\"VehicleSold\"), dfTest], axis=0)\n",
    "cat_cols = all_data.select_dtypes(include=\"object\").columns"
   ]
  },
  {
   "cell_type": "markdown",
   "id": "874cdeb2",
   "metadata": {},
   "source": [
    "## Encoding categorical features"
   ]
  },
  {
   "cell_type": "code",
   "execution_count": 37,
   "id": "2ea4e208",
   "metadata": {},
   "outputs": [],
   "source": [
    "encoders = {}\n",
    "for col in cat_cols:\n",
    "    le = LabelEncoder()\n",
    "    all_data[col] = le.fit_transform(all_data[col].astype(str))\n",
    "    encoders[col] = le\n",
    "\n",
    "X_train = all_data.iloc[:len(dfTrain), :]\n",
    "X_test = all_data.iloc[len(dfTrain):, :]\n",
    "y_train = dfTrain[\"VehicleSold\"]"
   ]
  },
  {
   "cell_type": "markdown",
   "id": "e1e26312",
   "metadata": {},
   "source": [
    "### Train/Test split"
   ]
  },
  {
   "cell_type": "code",
   "execution_count": 38,
   "id": "f84a3dce",
   "metadata": {},
   "outputs": [],
   "source": [
    "X_tr, X_val, y_tr, y_val = train_test_split(X_train, y_train, stratify=y_train, test_size=0.2, random_state=seed)"
   ]
  },
  {
   "cell_type": "code",
   "execution_count": 39,
   "id": "b41ed423",
   "metadata": {},
   "outputs": [],
   "source": [
    "def objective(trial):\n",
    "    params = {\n",
    "        \"objective\": \"binary\",\n",
    "        \"boosting_type\": \"gbdt\",\n",
    "        \"verbosity\": -1,\n",
    "        \"random_state\": seed,\n",
    "        \"n_estimators\": 1000,\n",
    "        \"learning_rate\": trial.suggest_float(\"learning_rate\", 0.01, 0.1),\n",
    "        \"num_leaves\": trial.suggest_int(\"num_leaves\", 16, 256),\n",
    "        \"min_child_samples\": trial.suggest_int(\"min_child_samples\", 10, 100),\n",
    "        \"feature_fraction\": trial.suggest_float(\"feature_fraction\", 0.6, 1.0),\n",
    "        \"bagging_fraction\": trial.suggest_float(\"bagging_fraction\", 0.6, 1.0),\n",
    "        \"bagging_freq\": trial.suggest_int(\"bagging_freq\", 1, 10),\n",
    "        \"reg_alpha\": trial.suggest_float(\"reg_alpha\", 0, 5),\n",
    "        \"reg_lambda\": trial.suggest_float(\"reg_lambda\", 0, 5)\n",
    "    }\n",
    "\n",
    "    model = lgb.LGBMClassifier(**params)\n",
    "\n",
    "    model.fit(\n",
    "        X_tr, y_tr,\n",
    "        eval_set=[(X_val, y_val)],\n",
    "        eval_metric=\"average_precision\",\n",
    "        callbacks=[\n",
    "            early_stopping(stopping_rounds=50),\n",
    "            log_evaluation(period=0)\n",
    "        ]\n",
    "    )\n",
    "\n",
    "    preds = model.predict_proba(X_val)[:, 1]\n",
    "    score = average_precision_score(y_val, preds)\n",
    "    return score\n"
   ]
  },
  {
   "cell_type": "markdown",
   "id": "c8f53f49",
   "metadata": {},
   "source": [
    "## Running Optimization"
   ]
  },
  {
   "cell_type": "code",
   "execution_count": 40,
   "id": "352f720d",
   "metadata": {},
   "outputs": [
    {
     "name": "stderr",
     "output_type": "stream",
     "text": [
      "[I 2025-07-14 17:36:38,718] A new study created in memory with name: no-name-52a69656-9d61-4752-ae94-0a90ec13c096\n"
     ]
    },
    {
     "name": "stdout",
     "output_type": "stream",
     "text": [
      "Training until validation scores don't improve for 50 rounds\n"
     ]
    },
    {
     "name": "stderr",
     "output_type": "stream",
     "text": [
      "[I 2025-07-14 17:36:39,034] Trial 0 finished with value: 0.07886955063893974 and parameters: {'learning_rate': 0.09057914218578224, 'num_leaves': 46, 'min_child_samples': 19, 'feature_fraction': 0.8042082363356532, 'bagging_fraction': 0.8012015072878704, 'bagging_freq': 3, 'reg_alpha': 3.176542763261815, 'reg_lambda': 2.5295023877215788}. Best is trial 0 with value: 0.07886955063893974.\n"
     ]
    },
    {
     "name": "stdout",
     "output_type": "stream",
     "text": [
      "Early stopping, best iteration is:\n",
      "[18]\tvalid_0's average_precision: 0.0788696\tvalid_0's binary_logloss: 0.174586\n",
      "Training until validation scores don't improve for 50 rounds\n"
     ]
    },
    {
     "name": "stderr",
     "output_type": "stream",
     "text": [
      "[I 2025-07-14 17:36:39,590] Trial 1 finished with value: 0.08028379602642843 and parameters: {'learning_rate': 0.08140109882828014, 'num_leaves': 177, 'min_child_samples': 98, 'feature_fraction': 0.773822291842254, 'bagging_fraction': 0.8815219843799699, 'bagging_freq': 1, 'reg_alpha': 4.831712819343149, 'reg_lambda': 1.1513995366184133}. Best is trial 1 with value: 0.08028379602642843.\n"
     ]
    },
    {
     "name": "stdout",
     "output_type": "stream",
     "text": [
      "Early stopping, best iteration is:\n",
      "[32]\tvalid_0's average_precision: 0.0802838\tvalid_0's binary_logloss: 0.174205\n",
      "Training until validation scores don't improve for 50 rounds\n"
     ]
    },
    {
     "name": "stderr",
     "output_type": "stream",
     "text": [
      "[I 2025-07-14 17:36:40,491] Trial 2 finished with value: 0.08407486215079951 and parameters: {'learning_rate': 0.024974932987905013, 'num_leaves': 114, 'min_child_samples': 26, 'feature_fraction': 0.639724767565023, 'bagging_fraction': 0.8906119646303012, 'bagging_freq': 7, 'reg_alpha': 4.160645345788222, 'reg_lambda': 4.349885825802383}. Best is trial 2 with value: 0.08407486215079951.\n"
     ]
    },
    {
     "name": "stdout",
     "output_type": "stream",
     "text": [
      "Early stopping, best iteration is:\n",
      "[105]\tvalid_0's average_precision: 0.0840749\tvalid_0's binary_logloss: 0.173852\n",
      "Training until validation scores don't improve for 50 rounds\n"
     ]
    },
    {
     "name": "stderr",
     "output_type": "stream",
     "text": [
      "[I 2025-07-14 17:36:41,176] Trial 3 finished with value: 0.08009229260431183 and parameters: {'learning_rate': 0.021152467698541046, 'num_leaves': 89, 'min_child_samples': 59, 'feature_fraction': 0.9313590449966008, 'bagging_fraction': 0.9795322145519638, 'bagging_freq': 8, 'reg_alpha': 3.4086739322168236, 'reg_lambda': 1.9217353585697965}. Best is trial 2 with value: 0.08407486215079951.\n"
     ]
    },
    {
     "name": "stdout",
     "output_type": "stream",
     "text": [
      "Early stopping, best iteration is:\n",
      "[55]\tvalid_0's average_precision: 0.0800923\tvalid_0's binary_logloss: 0.174791\n",
      "Training until validation scores don't improve for 50 rounds\n"
     ]
    },
    {
     "name": "stderr",
     "output_type": "stream",
     "text": [
      "[I 2025-07-14 17:36:41,613] Trial 4 finished with value: 0.07736451403627158 and parameters: {'learning_rate': 0.0809162276464322, 'num_leaves': 98, 'min_child_samples': 68, 'feature_fraction': 0.7005890873502845, 'bagging_fraction': 0.7763056100167179, 'bagging_freq': 10, 'reg_alpha': 0.6781785178634903, 'reg_lambda': 2.8369133762931824}. Best is trial 2 with value: 0.08407486215079951.\n"
     ]
    },
    {
     "name": "stdout",
     "output_type": "stream",
     "text": [
      "Early stopping, best iteration is:\n",
      "[26]\tvalid_0's average_precision: 0.0773645\tvalid_0's binary_logloss: 0.174158\n",
      "Training until validation scores don't improve for 50 rounds\n"
     ]
    },
    {
     "name": "stderr",
     "output_type": "stream",
     "text": [
      "[I 2025-07-14 17:36:42,691] Trial 5 finished with value: 0.08166907817018491 and parameters: {'learning_rate': 0.010526420006706852, 'num_leaves': 142, 'min_child_samples': 54, 'feature_fraction': 0.635148463736331, 'bagging_fraction': 0.7630762225809322, 'bagging_freq': 7, 'reg_alpha': 0.3790499154089433, 'reg_lambda': 4.267283699343372}. Best is trial 2 with value: 0.08407486215079951.\n"
     ]
    },
    {
     "name": "stdout",
     "output_type": "stream",
     "text": [
      "Early stopping, best iteration is:\n",
      "[115]\tvalid_0's average_precision: 0.0816691\tvalid_0's binary_logloss: 0.174829\n",
      "Training until validation scores don't improve for 50 rounds\n"
     ]
    },
    {
     "name": "stderr",
     "output_type": "stream",
     "text": [
      "[I 2025-07-14 17:36:43,216] Trial 6 finished with value: 0.07844307011949977 and parameters: {'learning_rate': 0.08110371712720046, 'num_leaves': 70, 'min_child_samples': 20, 'feature_fraction': 0.8819567488968163, 'bagging_fraction': 0.853527877827262, 'bagging_freq': 7, 'reg_alpha': 3.635945641208029, 'reg_lambda': 3.674256777563904}. Best is trial 2 with value: 0.08407486215079951.\n"
     ]
    },
    {
     "name": "stdout",
     "output_type": "stream",
     "text": [
      "Early stopping, best iteration is:\n",
      "[50]\tvalid_0's average_precision: 0.0784431\tvalid_0's binary_logloss: 0.174231\n",
      "Training until validation scores don't improve for 50 rounds\n"
     ]
    },
    {
     "name": "stderr",
     "output_type": "stream",
     "text": [
      "[I 2025-07-14 17:36:43,648] Trial 7 finished with value: 0.07867917228731028 and parameters: {'learning_rate': 0.07827995252072179, 'num_leaves': 63, 'min_child_samples': 19, 'feature_fraction': 0.8630524170492018, 'bagging_fraction': 0.8628606438977373, 'bagging_freq': 6, 'reg_alpha': 1.9554619022624042, 'reg_lambda': 3.1407421439739522}. Best is trial 2 with value: 0.08407486215079951.\n"
     ]
    },
    {
     "name": "stdout",
     "output_type": "stream",
     "text": [
      "Early stopping, best iteration is:\n",
      "[43]\tvalid_0's average_precision: 0.0786792\tvalid_0's binary_logloss: 0.173735\n",
      "Training until validation scores don't improve for 50 rounds\n"
     ]
    },
    {
     "name": "stderr",
     "output_type": "stream",
     "text": [
      "[I 2025-07-14 17:36:44,209] Trial 8 finished with value: 0.08441214916196588 and parameters: {'learning_rate': 0.061503873955098765, 'num_leaves': 100, 'min_child_samples': 99, 'feature_fraction': 0.6514564127326442, 'bagging_fraction': 0.8827946786278817, 'bagging_freq': 2, 'reg_alpha': 2.195634618382334, 'reg_lambda': 1.845241969413674}. Best is trial 8 with value: 0.08441214916196588.\n"
     ]
    },
    {
     "name": "stdout",
     "output_type": "stream",
     "text": [
      "Early stopping, best iteration is:\n",
      "[34]\tvalid_0's average_precision: 0.0844121\tvalid_0's binary_logloss: 0.173848\n",
      "Training until validation scores don't improve for 50 rounds\n"
     ]
    },
    {
     "name": "stderr",
     "output_type": "stream",
     "text": [
      "[I 2025-07-14 17:36:44,720] Trial 9 finished with value: 0.07583762466333374 and parameters: {'learning_rate': 0.08590999679976516, 'num_leaves': 138, 'min_child_samples': 37, 'feature_fraction': 0.8373105508750986, 'bagging_fraction': 0.7709066025605449, 'bagging_freq': 10, 'reg_alpha': 0.16996636959875244, 'reg_lambda': 2.045807327788141}. Best is trial 8 with value: 0.08441214916196588.\n"
     ]
    },
    {
     "name": "stdout",
     "output_type": "stream",
     "text": [
      "Early stopping, best iteration is:\n",
      "[21]\tvalid_0's average_precision: 0.0758376\tvalid_0's binary_logloss: 0.174476\n",
      "Training until validation scores don't improve for 50 rounds\n"
     ]
    },
    {
     "name": "stderr",
     "output_type": "stream",
     "text": [
      "[I 2025-07-14 17:36:45,416] Trial 10 finished with value: 0.07334589547705457 and parameters: {'learning_rate': 0.04886886449287388, 'num_leaves': 248, 'min_child_samples': 99, 'feature_fraction': 0.9900185384934804, 'bagging_fraction': 0.6480219508415882, 'bagging_freq': 3, 'reg_alpha': 1.9524687959207887, 'reg_lambda': 0.27408533034223126}. Best is trial 8 with value: 0.08441214916196588.\n"
     ]
    },
    {
     "name": "stdout",
     "output_type": "stream",
     "text": [
      "Early stopping, best iteration is:\n",
      "[37]\tvalid_0's average_precision: 0.0733459\tvalid_0's binary_logloss: 0.175117\n",
      "Training until validation scores don't improve for 50 rounds\n"
     ]
    },
    {
     "name": "stderr",
     "output_type": "stream",
     "text": [
      "[I 2025-07-14 17:36:46,251] Trial 11 finished with value: 0.08382847982826501 and parameters: {'learning_rate': 0.04890599649391322, 'num_leaves': 181, 'min_child_samples': 79, 'feature_fraction': 0.6136607947321815, 'bagging_fraction': 0.9494719645640437, 'bagging_freq': 4, 'reg_alpha': 4.976060663055681, 'reg_lambda': 4.793111802661341}. Best is trial 8 with value: 0.08441214916196588.\n"
     ]
    },
    {
     "name": "stdout",
     "output_type": "stream",
     "text": [
      "Early stopping, best iteration is:\n",
      "[69]\tvalid_0's average_precision: 0.0838285\tvalid_0's binary_logloss: 0.173736\n",
      "Training until validation scores don't improve for 50 rounds\n"
     ]
    },
    {
     "name": "stderr",
     "output_type": "stream",
     "text": [
      "[I 2025-07-14 17:36:46,988] Trial 12 finished with value: 0.08204116958593871 and parameters: {'learning_rate': 0.03555788043317811, 'num_leaves': 27, 'min_child_samples': 38, 'feature_fraction': 0.7068995430625553, 'bagging_fraction': 0.927083176106584, 'bagging_freq': 1, 'reg_alpha': 2.469358433538285, 'reg_lambda': 1.5169460560853505}. Best is trial 8 with value: 0.08441214916196588.\n"
     ]
    },
    {
     "name": "stdout",
     "output_type": "stream",
     "text": [
      "Early stopping, best iteration is:\n",
      "[161]\tvalid_0's average_precision: 0.0820412\tvalid_0's binary_logloss: 0.173371\n",
      "Training until validation scores don't improve for 50 rounds\n"
     ]
    },
    {
     "name": "stderr",
     "output_type": "stream",
     "text": [
      "[I 2025-07-14 17:36:47,466] Trial 13 finished with value: 0.07657271803830476 and parameters: {'learning_rate': 0.06364556350111826, 'num_leaves': 111, 'min_child_samples': 39, 'feature_fraction': 0.6883430185154122, 'bagging_fraction': 0.9013556571971678, 'bagging_freq': 5, 'reg_alpha': 4.178176271070168, 'reg_lambda': 0.7203922902768793}. Best is trial 8 with value: 0.08441214916196588.\n"
     ]
    },
    {
     "name": "stdout",
     "output_type": "stream",
     "text": [
      "Early stopping, best iteration is:\n",
      "[15]\tvalid_0's average_precision: 0.0765727\tvalid_0's binary_logloss: 0.175525\n",
      "Training until validation scores don't improve for 50 rounds\n"
     ]
    },
    {
     "name": "stderr",
     "output_type": "stream",
     "text": [
      "[I 2025-07-14 17:36:48,055] Trial 14 finished with value: 0.0729257014623462 and parameters: {'learning_rate': 0.06440308378424053, 'num_leaves': 183, 'min_child_samples': 84, 'feature_fraction': 0.7520642597566632, 'bagging_fraction': 0.6886222618675149, 'bagging_freq': 8, 'reg_alpha': 1.2763548832086846, 'reg_lambda': 3.6796516652468796}. Best is trial 8 with value: 0.08441214916196588.\n"
     ]
    },
    {
     "name": "stdout",
     "output_type": "stream",
     "text": [
      "Early stopping, best iteration is:\n",
      "[20]\tvalid_0's average_precision: 0.0729257\tvalid_0's binary_logloss: 0.175246\n",
      "Training until validation scores don't improve for 50 rounds\n"
     ]
    },
    {
     "name": "stderr",
     "output_type": "stream",
     "text": [
      "[I 2025-07-14 17:36:48,854] Trial 15 finished with value: 0.08186070612761534 and parameters: {'learning_rate': 0.034365720937716046, 'num_leaves': 115, 'min_child_samples': 10, 'feature_fraction': 0.6433833538018608, 'bagging_fraction': 0.997846652506627, 'bagging_freq': 2, 'reg_alpha': 2.757018950024221, 'reg_lambda': 4.688269663917691}. Best is trial 8 with value: 0.08441214916196588.\n"
     ]
    },
    {
     "name": "stdout",
     "output_type": "stream",
     "text": [
      "Early stopping, best iteration is:\n",
      "[76]\tvalid_0's average_precision: 0.0818607\tvalid_0's binary_logloss: 0.173544\n",
      "Training until validation scores don't improve for 50 rounds\n"
     ]
    },
    {
     "name": "stderr",
     "output_type": "stream",
     "text": [
      "[I 2025-07-14 17:36:49,676] Trial 16 finished with value: 0.08162262347498052 and parameters: {'learning_rate': 0.033798361988639586, 'num_leaves': 159, 'min_child_samples': 49, 'feature_fraction': 0.6760886100730755, 'bagging_fraction': 0.8166358657973902, 'bagging_freq': 5, 'reg_alpha': 4.136196630085417, 'reg_lambda': 3.4687097974959245}. Best is trial 8 with value: 0.08441214916196588.\n"
     ]
    },
    {
     "name": "stdout",
     "output_type": "stream",
     "text": [
      "Early stopping, best iteration is:\n",
      "[73]\tvalid_0's average_precision: 0.0816226\tvalid_0's binary_logloss: 0.174055\n",
      "Training until validation scores don't improve for 50 rounds\n"
     ]
    },
    {
     "name": "stderr",
     "output_type": "stream",
     "text": [
      "[I 2025-07-14 17:36:50,169] Trial 17 finished with value: 0.07712282829190548 and parameters: {'learning_rate': 0.06325024446449076, 'num_leaves': 235, 'min_child_samples': 83, 'feature_fraction': 0.6010375465611106, 'bagging_fraction': 0.7282530457186692, 'bagging_freq': 4, 'reg_alpha': 1.4614847288214632, 'reg_lambda': 2.1197423540733156}. Best is trial 8 with value: 0.08441214916196588.\n"
     ]
    },
    {
     "name": "stdout",
     "output_type": "stream",
     "text": [
      "Early stopping, best iteration is:\n",
      "[11]\tvalid_0's average_precision: 0.0771228\tvalid_0's binary_logloss: 0.176248\n",
      "Training until validation scores don't improve for 50 rounds\n"
     ]
    },
    {
     "name": "stderr",
     "output_type": "stream",
     "text": [
      "[I 2025-07-14 17:36:50,996] Trial 18 finished with value: 0.08002220808828799 and parameters: {'learning_rate': 0.02327585326703116, 'num_leaves': 209, 'min_child_samples': 29, 'feature_fraction': 0.7443327734671431, 'bagging_fraction': 0.8368919186716313, 'bagging_freq': 9, 'reg_alpha': 2.5739019502056157, 'reg_lambda': 4.1700863303935725}. Best is trial 8 with value: 0.08441214916196588.\n"
     ]
    },
    {
     "name": "stdout",
     "output_type": "stream",
     "text": [
      "Early stopping, best iteration is:\n",
      "[37]\tvalid_0's average_precision: 0.0800222\tvalid_0's binary_logloss: 0.175772\n",
      "Training until validation scores don't improve for 50 rounds\n"
     ]
    },
    {
     "name": "stderr",
     "output_type": "stream",
     "text": [
      "[I 2025-07-14 17:36:51,714] Trial 19 finished with value: 0.0765640540747595 and parameters: {'learning_rate': 0.09675596327344278, 'num_leaves': 85, 'min_child_samples': 68, 'feature_fraction': 0.660056707547333, 'bagging_fraction': 0.9104774474632444, 'bagging_freq': 6, 'reg_alpha': 4.162298878682263, 'reg_lambda': 1.3253890510377282}. Best is trial 8 with value: 0.08441214916196588.\n"
     ]
    },
    {
     "name": "stdout",
     "output_type": "stream",
     "text": [
      "Early stopping, best iteration is:\n",
      "[30]\tvalid_0's average_precision: 0.0765641\tvalid_0's binary_logloss: 0.17434\n",
      "Training until validation scores don't improve for 50 rounds\n"
     ]
    },
    {
     "name": "stderr",
     "output_type": "stream",
     "text": [
      "[I 2025-07-14 17:36:52,729] Trial 20 finished with value: 0.07957600374981533 and parameters: {'learning_rate': 0.052778705887596804, 'num_leaves': 124, 'min_child_samples': 47, 'feature_fraction': 0.7272781067306273, 'bagging_fraction': 0.9553628611443961, 'bagging_freq': 3, 'reg_alpha': 2.04863760348229, 'reg_lambda': 0.095816050683184}. Best is trial 8 with value: 0.08441214916196588.\n"
     ]
    },
    {
     "name": "stdout",
     "output_type": "stream",
     "text": [
      "Early stopping, best iteration is:\n",
      "[47]\tvalid_0's average_precision: 0.079576\tvalid_0's binary_logloss: 0.173971\n",
      "Training until validation scores don't improve for 50 rounds\n"
     ]
    },
    {
     "name": "stderr",
     "output_type": "stream",
     "text": [
      "[I 2025-07-14 17:36:53,865] Trial 21 finished with value: 0.08430401648846306 and parameters: {'learning_rate': 0.04019214168146862, 'num_leaves': 202, 'min_child_samples': 89, 'feature_fraction': 0.6038831005713898, 'bagging_fraction': 0.9323561065751248, 'bagging_freq': 4, 'reg_alpha': 4.993768566129774, 'reg_lambda': 4.70225560321455}. Best is trial 8 with value: 0.08441214916196588.\n"
     ]
    },
    {
     "name": "stdout",
     "output_type": "stream",
     "text": [
      "Early stopping, best iteration is:\n",
      "[73]\tvalid_0's average_precision: 0.084304\tvalid_0's binary_logloss: 0.173596\n",
      "Training until validation scores don't improve for 50 rounds\n"
     ]
    },
    {
     "name": "stderr",
     "output_type": "stream",
     "text": [
      "[I 2025-07-14 17:36:54,554] Trial 22 finished with value: 0.08403912272977089 and parameters: {'learning_rate': 0.038438516993644194, 'num_leaves': 155, 'min_child_samples': 91, 'feature_fraction': 0.6342592432237072, 'bagging_fraction': 0.8834857983981855, 'bagging_freq': 2, 'reg_alpha': 4.67172918858401, 'reg_lambda': 4.970187367228483}. Best is trial 8 with value: 0.08441214916196588.\n"
     ]
    },
    {
     "name": "stdout",
     "output_type": "stream",
     "text": [
      "Early stopping, best iteration is:\n",
      "[22]\tvalid_0's average_precision: 0.0840391\tvalid_0's binary_logloss: 0.175924\n",
      "Training until validation scores don't improve for 50 rounds\n"
     ]
    },
    {
     "name": "stderr",
     "output_type": "stream",
     "text": [
      "[I 2025-07-14 17:36:55,664] Trial 23 finished with value: 0.08295096268661337 and parameters: {'learning_rate': 0.04278772803151829, 'num_leaves': 213, 'min_child_samples': 92, 'feature_fraction': 0.6096734520042835, 'bagging_fraction': 0.9302137158957187, 'bagging_freq': 4, 'reg_alpha': 4.385240334189578, 'reg_lambda': 4.345289005424987}. Best is trial 8 with value: 0.08441214916196588.\n"
     ]
    },
    {
     "name": "stdout",
     "output_type": "stream",
     "text": [
      "Early stopping, best iteration is:\n",
      "[71]\tvalid_0's average_precision: 0.082951\tvalid_0's binary_logloss: 0.173726\n",
      "Training until validation scores don't improve for 50 rounds\n"
     ]
    },
    {
     "name": "stderr",
     "output_type": "stream",
     "text": [
      "[I 2025-07-14 17:36:57,395] Trial 24 finished with value: 0.08336243134742892 and parameters: {'learning_rate': 0.02203503086342514, 'num_leaves': 202, 'min_child_samples': 75, 'feature_fraction': 0.6646346221730252, 'bagging_fraction': 0.9645594142216012, 'bagging_freq': 2, 'reg_alpha': 3.724482102162914, 'reg_lambda': 3.9523251075139867}. Best is trial 8 with value: 0.08441214916196588.\n"
     ]
    },
    {
     "name": "stdout",
     "output_type": "stream",
     "text": [
      "Early stopping, best iteration is:\n",
      "[115]\tvalid_0's average_precision: 0.0833624\tvalid_0's binary_logloss: 0.17359\n",
      "Training until validation scores don't improve for 50 rounds\n"
     ]
    },
    {
     "name": "stderr",
     "output_type": "stream",
     "text": [
      "[I 2025-07-14 17:36:58,641] Trial 25 finished with value: 0.08214777627829632 and parameters: {'learning_rate': 0.028492503082956967, 'num_leaves': 105, 'min_child_samples': 92, 'feature_fraction': 0.6012364770098371, 'bagging_fraction': 0.8260563592516666, 'bagging_freq': 7, 'reg_alpha': 3.0303519579070164, 'reg_lambda': 3.125788205232295}. Best is trial 8 with value: 0.08441214916196588.\n"
     ]
    },
    {
     "name": "stdout",
     "output_type": "stream",
     "text": [
      "Early stopping, best iteration is:\n",
      "[100]\tvalid_0's average_precision: 0.0821478\tvalid_0's binary_logloss: 0.173827\n",
      "Training until validation scores don't improve for 50 rounds\n"
     ]
    },
    {
     "name": "stderr",
     "output_type": "stream",
     "text": [
      "[I 2025-07-14 17:37:00,752] Trial 26 finished with value: 0.0801188748198406 and parameters: {'learning_rate': 0.011037009193486848, 'num_leaves': 128, 'min_child_samples': 100, 'feature_fraction': 0.7157981034224259, 'bagging_fraction': 0.6021552975628935, 'bagging_freq': 5, 'reg_alpha': 4.509131417570429, 'reg_lambda': 4.615311844080217}. Best is trial 8 with value: 0.08441214916196588.\n"
     ]
    },
    {
     "name": "stdout",
     "output_type": "stream",
     "text": [
      "Early stopping, best iteration is:\n",
      "[187]\tvalid_0's average_precision: 0.0801189\tvalid_0's binary_logloss: 0.174678\n",
      "Training until validation scores don't improve for 50 rounds\n"
     ]
    },
    {
     "name": "stderr",
     "output_type": "stream",
     "text": [
      "[I 2025-07-14 17:37:01,440] Trial 27 finished with value: 0.07954329418077785 and parameters: {'learning_rate': 0.07280833699269168, 'num_leaves': 65, 'min_child_samples': 67, 'feature_fraction': 0.650116965829396, 'bagging_fraction': 0.8672160437744415, 'bagging_freq': 4, 'reg_alpha': 3.7344389246908314, 'reg_lambda': 1.6529563698733867}. Best is trial 8 with value: 0.08441214916196588.\n"
     ]
    },
    {
     "name": "stdout",
     "output_type": "stream",
     "text": [
      "Early stopping, best iteration is:\n",
      "[43]\tvalid_0's average_precision: 0.0795433\tvalid_0's binary_logloss: 0.174117\n",
      "Training until validation scores don't improve for 50 rounds\n"
     ]
    },
    {
     "name": "stderr",
     "output_type": "stream",
     "text": [
      "[I 2025-07-14 17:37:02,270] Trial 28 finished with value: 0.07903130805878868 and parameters: {'learning_rate': 0.058241537823468706, 'num_leaves': 154, 'min_child_samples': 88, 'feature_fraction': 0.7813362385226509, 'bagging_fraction': 0.9114836766304598, 'bagging_freq': 6, 'reg_alpha': 1.4161203562241165, 'reg_lambda': 2.3352005284707387}. Best is trial 8 with value: 0.08441214916196588.\n"
     ]
    },
    {
     "name": "stdout",
     "output_type": "stream",
     "text": [
      "Early stopping, best iteration is:\n",
      "[27]\tvalid_0's average_precision: 0.0790313\tvalid_0's binary_logloss: 0.174309\n",
      "Training until validation scores don't improve for 50 rounds\n"
     ]
    },
    {
     "name": "stderr",
     "output_type": "stream",
     "text": [
      "[I 2025-07-14 17:37:03,042] Trial 29 finished with value: 0.08052287397883534 and parameters: {'learning_rate': 0.04291219497790991, 'num_leaves': 39, 'min_child_samples': 29, 'feature_fraction': 0.6873853878543755, 'bagging_fraction': 0.8920768741038223, 'bagging_freq': 3, 'reg_alpha': 3.141577733143262, 'reg_lambda': 2.6281628041922245}. Best is trial 8 with value: 0.08441214916196588.\n"
     ]
    },
    {
     "name": "stdout",
     "output_type": "stream",
     "text": [
      "Early stopping, best iteration is:\n",
      "[79]\tvalid_0's average_precision: 0.0805229\tvalid_0's binary_logloss: 0.173834\n",
      "Training until validation scores don't improve for 50 rounds\n"
     ]
    },
    {
     "name": "stderr",
     "output_type": "stream",
     "text": [
      "[I 2025-07-14 17:37:04,117] Trial 30 finished with value: 0.07483745057581179 and parameters: {'learning_rate': 0.07226721132033086, 'num_leaves': 230, 'min_child_samples': 75, 'feature_fraction': 0.6305024275358232, 'bagging_fraction': 0.9355537227104931, 'bagging_freq': 3, 'reg_alpha': 2.3013555050231664, 'reg_lambda': 0.7215399737611121}. Best is trial 8 with value: 0.08441214916196588.\n"
     ]
    },
    {
     "name": "stdout",
     "output_type": "stream",
     "text": [
      "Early stopping, best iteration is:\n",
      "[28]\tvalid_0's average_precision: 0.0748375\tvalid_0's binary_logloss: 0.174706\n",
      "Training until validation scores don't improve for 50 rounds\n"
     ]
    },
    {
     "name": "stderr",
     "output_type": "stream",
     "text": [
      "[I 2025-07-14 17:37:04,880] Trial 31 finished with value: 0.08325980913826041 and parameters: {'learning_rate': 0.04067467604137394, 'num_leaves': 159, 'min_child_samples': 92, 'feature_fraction': 0.6299298954885422, 'bagging_fraction': 0.8769892455483538, 'bagging_freq': 2, 'reg_alpha': 4.62506874195639, 'reg_lambda': 4.936637467634596}. Best is trial 8 with value: 0.08441214916196588.\n"
     ]
    },
    {
     "name": "stdout",
     "output_type": "stream",
     "text": [
      "Early stopping, best iteration is:\n",
      "[29]\tvalid_0's average_precision: 0.0832598\tvalid_0's binary_logloss: 0.175123\n",
      "Training until validation scores don't improve for 50 rounds\n"
     ]
    },
    {
     "name": "stderr",
     "output_type": "stream",
     "text": [
      "[I 2025-07-14 17:37:06,548] Trial 32 finished with value: 0.08264044779304017 and parameters: {'learning_rate': 0.026492916606183945, 'num_leaves': 191, 'min_child_samples': 93, 'feature_fraction': 0.6613686192803305, 'bagging_fraction': 0.8421404639281656, 'bagging_freq': 1, 'reg_alpha': 4.7698792431797985, 'reg_lambda': 4.961552765187654}. Best is trial 8 with value: 0.08441214916196588.\n"
     ]
    },
    {
     "name": "stdout",
     "output_type": "stream",
     "text": [
      "Early stopping, best iteration is:\n",
      "[113]\tvalid_0's average_precision: 0.0826404\tvalid_0's binary_logloss: 0.173748\n",
      "Training until validation scores don't improve for 50 rounds\n"
     ]
    },
    {
     "name": "stderr",
     "output_type": "stream",
     "text": [
      "[I 2025-07-14 17:37:07,572] Trial 33 finished with value: 0.08270574455658791 and parameters: {'learning_rate': 0.03826649767890426, 'num_leaves': 171, 'min_child_samples': 85, 'feature_fraction': 0.6299671456176547, 'bagging_fraction': 0.8045782655285142, 'bagging_freq': 2, 'reg_alpha': 4.987554046886839, 'reg_lambda': 4.417832555323083}. Best is trial 8 with value: 0.08441214916196588.\n"
     ]
    },
    {
     "name": "stdout",
     "output_type": "stream",
     "text": [
      "Early stopping, best iteration is:\n",
      "[47]\tvalid_0's average_precision: 0.0827057\tvalid_0's binary_logloss: 0.174594\n",
      "Training until validation scores don't improve for 50 rounds\n"
     ]
    },
    {
     "name": "stderr",
     "output_type": "stream",
     "text": [
      "[I 2025-07-14 17:37:09,033] Trial 34 finished with value: 0.0822153324919816 and parameters: {'learning_rate': 0.01636931420237011, 'num_leaves': 96, 'min_child_samples': 96, 'feature_fraction': 0.8130698784058433, 'bagging_fraction': 0.8847609173192997, 'bagging_freq': 1, 'reg_alpha': 4.406445253555685, 'reg_lambda': 4.567692268565029}. Best is trial 8 with value: 0.08441214916196588.\n"
     ]
    },
    {
     "name": "stdout",
     "output_type": "stream",
     "text": [
      "Early stopping, best iteration is:\n",
      "[111]\tvalid_0's average_precision: 0.0822153\tvalid_0's binary_logloss: 0.174145\n",
      "Training until validation scores don't improve for 50 rounds\n"
     ]
    },
    {
     "name": "stderr",
     "output_type": "stream",
     "text": [
      "[I 2025-07-14 17:37:10,564] Trial 35 finished with value: 0.08219104875575532 and parameters: {'learning_rate': 0.030039519699662485, 'num_leaves': 148, 'min_child_samples': 63, 'feature_fraction': 0.681363146280002, 'bagging_fraction': 0.9739462452783733, 'bagging_freq': 8, 'reg_alpha': 4.055387509913395, 'reg_lambda': 4.040588938021424}. Best is trial 8 with value: 0.08441214916196588.\n"
     ]
    },
    {
     "name": "stdout",
     "output_type": "stream",
     "text": [
      "Early stopping, best iteration is:\n",
      "[95]\tvalid_0's average_precision: 0.082191\tvalid_0's binary_logloss: 0.173667\n",
      "Training until validation scores don't improve for 50 rounds\n"
     ]
    },
    {
     "name": "stderr",
     "output_type": "stream",
     "text": [
      "[I 2025-07-14 17:37:11,532] Trial 36 finished with value: 0.08166057462214975 and parameters: {'learning_rate': 0.04676028863441558, 'num_leaves': 77, 'min_child_samples': 76, 'feature_fraction': 0.6219405990910496, 'bagging_fraction': 0.7869451841625293, 'bagging_freq': 2, 'reg_alpha': 3.406705784488558, 'reg_lambda': 3.835467030216008}. Best is trial 8 with value: 0.08441214916196588.\n"
     ]
    },
    {
     "name": "stdout",
     "output_type": "stream",
     "text": [
      "Early stopping, best iteration is:\n",
      "[55]\tvalid_0's average_precision: 0.0816606\tvalid_0's binary_logloss: 0.174243\n",
      "Training until validation scores don't improve for 50 rounds\n"
     ]
    },
    {
     "name": "stderr",
     "output_type": "stream",
     "text": [
      "[I 2025-07-14 17:37:12,276] Trial 37 finished with value: 0.0819507222632399 and parameters: {'learning_rate': 0.0576698751328818, 'num_leaves': 123, 'min_child_samples': 57, 'feature_fraction': 0.6500538621753311, 'bagging_fraction': 0.8534214934589985, 'bagging_freq': 1, 'reg_alpha': 3.878652451371659, 'reg_lambda': 3.318546052008541}. Best is trial 8 with value: 0.08441214916196588.\n"
     ]
    },
    {
     "name": "stdout",
     "output_type": "stream",
     "text": [
      "Early stopping, best iteration is:\n",
      "[36]\tvalid_0's average_precision: 0.0819507\tvalid_0's binary_logloss: 0.174135\n",
      "Training until validation scores don't improve for 50 rounds\n"
     ]
    },
    {
     "name": "stderr",
     "output_type": "stream",
     "text": [
      "[I 2025-07-14 17:37:14,660] Trial 38 finished with value: 0.082071898218694 and parameters: {'learning_rate': 0.015432391076966234, 'num_leaves': 168, 'min_child_samples': 87, 'feature_fraction': 0.9157051663097402, 'bagging_fraction': 0.9984155789118252, 'bagging_freq': 9, 'reg_alpha': 4.740922706438963, 'reg_lambda': 2.784121654679477}. Best is trial 8 with value: 0.08441214916196588.\n"
     ]
    },
    {
     "name": "stdout",
     "output_type": "stream",
     "text": [
      "Early stopping, best iteration is:\n",
      "[170]\tvalid_0's average_precision: 0.0820719\tvalid_0's binary_logloss: 0.173821\n",
      "Training until validation scores don't improve for 50 rounds\n"
     ]
    },
    {
     "name": "stderr",
     "output_type": "stream",
     "text": [
      "[I 2025-07-14 17:37:15,444] Trial 39 finished with value: 0.07845746327211216 and parameters: {'learning_rate': 0.05226358196954604, 'num_leaves': 54, 'min_child_samples': 11, 'feature_fraction': 0.7334705983339621, 'bagging_fraction': 0.9137436753658011, 'bagging_freq': 7, 'reg_alpha': 0.9833634124363004, 'reg_lambda': 1.8385185697989717}. Best is trial 8 with value: 0.08441214916196588.\n"
     ]
    },
    {
     "name": "stdout",
     "output_type": "stream",
     "text": [
      "Early stopping, best iteration is:\n",
      "[56]\tvalid_0's average_precision: 0.0784575\tvalid_0's binary_logloss: 0.173881\n",
      "Training until validation scores don't improve for 50 rounds\n"
     ]
    },
    {
     "name": "stderr",
     "output_type": "stream",
     "text": [
      "[I 2025-07-14 17:37:16,788] Trial 40 finished with value: 0.08054724081966154 and parameters: {'learning_rate': 0.04674608359055871, 'num_leaves': 136, 'min_child_samples': 80, 'feature_fraction': 0.7011045199765774, 'bagging_fraction': 0.946393122898772, 'bagging_freq': 3, 'reg_alpha': 2.9670011265405902, 'reg_lambda': 4.4448649972448}. Best is trial 8 with value: 0.08441214916196588.\n"
     ]
    },
    {
     "name": "stdout",
     "output_type": "stream",
     "text": [
      "Early stopping, best iteration is:\n",
      "[54]\tvalid_0's average_precision: 0.0805472\tvalid_0's binary_logloss: 0.173933\n",
      "Training until validation scores don't improve for 50 rounds\n"
     ]
    },
    {
     "name": "stderr",
     "output_type": "stream",
     "text": [
      "[I 2025-07-14 17:37:17,930] Trial 41 finished with value: 0.08102348037808323 and parameters: {'learning_rate': 0.050394255865250884, 'num_leaves': 192, 'min_child_samples': 79, 'feature_fraction': 0.616184193491297, 'bagging_fraction': 0.9447726599661836, 'bagging_freq': 4, 'reg_alpha': 4.958691748863952, 'reg_lambda': 4.792548363041343}. Best is trial 8 with value: 0.08441214916196588.\n"
     ]
    },
    {
     "name": "stdout",
     "output_type": "stream",
     "text": [
      "Early stopping, best iteration is:\n",
      "[51]\tvalid_0's average_precision: 0.0810235\tvalid_0's binary_logloss: 0.174066\n",
      "Training until validation scores don't improve for 50 rounds\n"
     ]
    },
    {
     "name": "stderr",
     "output_type": "stream",
     "text": [
      "[I 2025-07-14 17:37:19,064] Trial 42 finished with value: 0.07896630806777222 and parameters: {'learning_rate': 0.05647107934162469, 'num_leaves': 180, 'min_child_samples': 96, 'feature_fraction': 0.6403436364961427, 'bagging_fraction': 0.887532663974317, 'bagging_freq': 5, 'reg_alpha': 4.641824243805602, 'reg_lambda': 4.938817514797199}. Best is trial 8 with value: 0.08441214916196588.\n"
     ]
    },
    {
     "name": "stdout",
     "output_type": "stream",
     "text": [
      "Early stopping, best iteration is:\n",
      "[35]\tvalid_0's average_precision: 0.0789663\tvalid_0's binary_logloss: 0.174347\n",
      "Training until validation scores don't improve for 50 rounds\n"
     ]
    },
    {
     "name": "stderr",
     "output_type": "stream",
     "text": [
      "[I 2025-07-14 17:37:20,306] Trial 43 finished with value: 0.08385273902822113 and parameters: {'learning_rate': 0.03799187763199631, 'num_leaves': 223, 'min_child_samples': 88, 'feature_fraction': 0.6018539385131686, 'bagging_fraction': 0.9239752040448184, 'bagging_freq': 4, 'reg_alpha': 4.963226993715288, 'reg_lambda': 4.20910134720847}. Best is trial 8 with value: 0.08441214916196588.\n"
     ]
    },
    {
     "name": "stdout",
     "output_type": "stream",
     "text": [
      "Early stopping, best iteration is:\n",
      "[70]\tvalid_0's average_precision: 0.0838527\tvalid_0's binary_logloss: 0.173795\n",
      "Training until validation scores don't improve for 50 rounds\n"
     ]
    },
    {
     "name": "stderr",
     "output_type": "stream",
     "text": [
      "[I 2025-07-14 17:37:21,543] Trial 44 finished with value: 0.08380879505799238 and parameters: {'learning_rate': 0.030248775622088206, 'num_leaves': 255, 'min_child_samples': 88, 'feature_fraction': 0.6752727266271814, 'bagging_fraction': 0.868272259292451, 'bagging_freq': 4, 'reg_alpha': 3.402778526945394, 'reg_lambda': 4.164819112158622}. Best is trial 8 with value: 0.08441214916196588.\n"
     ]
    },
    {
     "name": "stdout",
     "output_type": "stream",
     "text": [
      "Early stopping, best iteration is:\n",
      "[32]\tvalid_0's average_precision: 0.0838088\tvalid_0's binary_logloss: 0.175239\n"
     ]
    }
   ],
   "source": [
    "# this will take about 5 min\n",
    "study = optuna.create_study(direction=\"maximize\")\n",
    "study.optimize(objective, n_trials=45)"
   ]
  },
  {
   "cell_type": "markdown",
   "id": "3243e21a",
   "metadata": {},
   "source": [
    "### Cross-Fold Ensembling with Best Parameters"
   ]
  },
  {
   "cell_type": "code",
   "execution_count": 41,
   "id": "d209ebbf",
   "metadata": {},
   "outputs": [],
   "source": [
    "best_params = study.best_params\n",
    "best_params.update({\"objective\": \"binary\", \"metric\": \"average_precision\", \"verbosity\": -1, \"seed\": seed})"
   ]
  },
  {
   "cell_type": "markdown",
   "id": "16234ad6",
   "metadata": {},
   "source": [
    "## Calculating class weight for imbalance handling"
   ]
  },
  {
   "cell_type": "code",
   "execution_count": 42,
   "id": "45817b00",
   "metadata": {},
   "outputs": [
    {
     "name": "stdout",
     "output_type": "stream",
     "text": [
      "Scale pos weight: 21.703221809169765\n"
     ]
    }
   ],
   "source": [
    "from collections import Counter\n",
    "counter = Counter(y_train)\n",
    "scale_pos_weight = counter[0] / counter[1]\n",
    "print(\"Scale pos weight:\", scale_pos_weight)\n",
    "\n",
    "# Adding scale_pos_weight to best params\n",
    "best_params[\"scale_pos_weight\"] = scale_pos_weight"
   ]
  },
  {
   "cell_type": "markdown",
   "id": "940cf89e",
   "metadata": {},
   "source": [
    "### Training with cross-validation and create model ensemble"
   ]
  },
  {
   "cell_type": "code",
   "execution_count": 43,
   "id": "86fdb242",
   "metadata": {},
   "outputs": [
    {
     "name": "stdout",
     "output_type": "stream",
     "text": [
      "Training until validation scores don't improve for 100 rounds\n",
      "Did not meet early stopping. Best iteration is:\n",
      "[10]\tvalid_0's average_precision: 0.0792678\n",
      "Fold 1 PR-AUC: 0.079268\n",
      "Training until validation scores don't improve for 100 rounds\n",
      "Did not meet early stopping. Best iteration is:\n",
      "[42]\tvalid_0's average_precision: 0.0749151\n",
      "Fold 2 PR-AUC: 0.074915\n",
      "Training until validation scores don't improve for 100 rounds\n",
      "Did not meet early stopping. Best iteration is:\n",
      "[22]\tvalid_0's average_precision: 0.0729026\n",
      "Fold 3 PR-AUC: 0.072903\n",
      "Training until validation scores don't improve for 100 rounds\n",
      "Did not meet early stopping. Best iteration is:\n",
      "[24]\tvalid_0's average_precision: 0.0790928\n",
      "Fold 4 PR-AUC: 0.079093\n",
      "Training until validation scores don't improve for 100 rounds\n",
      "Did not meet early stopping. Best iteration is:\n",
      "[10]\tvalid_0's average_precision: 0.073329\n",
      "Fold 5 PR-AUC: 0.073329\n",
      "Mean CV PR-AUC: 0.075901 ± 0.002760\n"
     ]
    }
   ],
   "source": [
    "n_folds = 5\n",
    "kf = StratifiedKFold(n_splits=n_folds, shuffle=True, random_state=seed)\n",
    "cv_models = []\n",
    "cv_scores = []\n",
    "oof_preds = np.zeros(len(X_train))\n",
    "\n",
    "for fold, (train_idx, val_idx) in enumerate(kf.split(X_train, y_train)):\n",
    "    X_fold_train, X_fold_val = X_train.iloc[train_idx], X_train.iloc[val_idx]\n",
    "    y_fold_train, y_fold_val = y_train.iloc[train_idx], y_train.iloc[val_idx]\n",
    "    \n",
    "    fold_model = lgb.LGBMClassifier(**best_params)\n",
    "    fold_model.fit(\n",
    "        X_fold_train, y_fold_train,\n",
    "        eval_set=[(X_fold_val, y_fold_val)],\n",
    "        eval_metric=\"average_precision\",\n",
    "        callbacks=[\n",
    "            early_stopping(stopping_rounds=100),\n",
    "            log_evaluation(period=0)\n",
    "        ]\n",
    "    )\n",
    "    \n",
    "    # Store out-of-fold predictions for threshold optimization\n",
    "    oof_preds[val_idx] = fold_model.predict_proba(X_fold_val)[:, 1]\n",
    "    \n",
    "    fold_preds = fold_model.predict_proba(X_fold_val)[:, 1]\n",
    "    fold_score = average_precision_score(y_fold_val, fold_preds)\n",
    "    print(f\"Fold {fold+1} PR-AUC: {fold_score:.6f}\")\n",
    "    \n",
    "    cv_models.append(fold_model)\n",
    "    cv_scores.append(fold_score)\n",
    "\n",
    "print(f\"Mean CV PR-AUC: {np.mean(cv_scores):.6f} ± {np.std(cv_scores):.6f}\")"
   ]
  },
  {
   "cell_type": "markdown",
   "id": "0d69c944",
   "metadata": {},
   "source": [
    "### Training single model on all data"
   ]
  },
  {
   "cell_type": "code",
   "execution_count": 44,
   "id": "8db5bf80",
   "metadata": {},
   "outputs": [
    {
     "data": {
      "text/html": [
       "<style>#sk-container-id-2 {\n",
       "  /* Definition of color scheme common for light and dark mode */\n",
       "  --sklearn-color-text: #000;\n",
       "  --sklearn-color-text-muted: #666;\n",
       "  --sklearn-color-line: gray;\n",
       "  /* Definition of color scheme for unfitted estimators */\n",
       "  --sklearn-color-unfitted-level-0: #fff5e6;\n",
       "  --sklearn-color-unfitted-level-1: #f6e4d2;\n",
       "  --sklearn-color-unfitted-level-2: #ffe0b3;\n",
       "  --sklearn-color-unfitted-level-3: chocolate;\n",
       "  /* Definition of color scheme for fitted estimators */\n",
       "  --sklearn-color-fitted-level-0: #f0f8ff;\n",
       "  --sklearn-color-fitted-level-1: #d4ebff;\n",
       "  --sklearn-color-fitted-level-2: #b3dbfd;\n",
       "  --sklearn-color-fitted-level-3: cornflowerblue;\n",
       "\n",
       "  /* Specific color for light theme */\n",
       "  --sklearn-color-text-on-default-background: var(--sg-text-color, var(--theme-code-foreground, var(--jp-content-font-color1, black)));\n",
       "  --sklearn-color-background: var(--sg-background-color, var(--theme-background, var(--jp-layout-color0, white)));\n",
       "  --sklearn-color-border-box: var(--sg-text-color, var(--theme-code-foreground, var(--jp-content-font-color1, black)));\n",
       "  --sklearn-color-icon: #696969;\n",
       "\n",
       "  @media (prefers-color-scheme: dark) {\n",
       "    /* Redefinition of color scheme for dark theme */\n",
       "    --sklearn-color-text-on-default-background: var(--sg-text-color, var(--theme-code-foreground, var(--jp-content-font-color1, white)));\n",
       "    --sklearn-color-background: var(--sg-background-color, var(--theme-background, var(--jp-layout-color0, #111)));\n",
       "    --sklearn-color-border-box: var(--sg-text-color, var(--theme-code-foreground, var(--jp-content-font-color1, white)));\n",
       "    --sklearn-color-icon: #878787;\n",
       "  }\n",
       "}\n",
       "\n",
       "#sk-container-id-2 {\n",
       "  color: var(--sklearn-color-text);\n",
       "}\n",
       "\n",
       "#sk-container-id-2 pre {\n",
       "  padding: 0;\n",
       "}\n",
       "\n",
       "#sk-container-id-2 input.sk-hidden--visually {\n",
       "  border: 0;\n",
       "  clip: rect(1px 1px 1px 1px);\n",
       "  clip: rect(1px, 1px, 1px, 1px);\n",
       "  height: 1px;\n",
       "  margin: -1px;\n",
       "  overflow: hidden;\n",
       "  padding: 0;\n",
       "  position: absolute;\n",
       "  width: 1px;\n",
       "}\n",
       "\n",
       "#sk-container-id-2 div.sk-dashed-wrapped {\n",
       "  border: 1px dashed var(--sklearn-color-line);\n",
       "  margin: 0 0.4em 0.5em 0.4em;\n",
       "  box-sizing: border-box;\n",
       "  padding-bottom: 0.4em;\n",
       "  background-color: var(--sklearn-color-background);\n",
       "}\n",
       "\n",
       "#sk-container-id-2 div.sk-container {\n",
       "  /* jupyter's `normalize.less` sets `[hidden] { display: none; }`\n",
       "     but bootstrap.min.css set `[hidden] { display: none !important; }`\n",
       "     so we also need the `!important` here to be able to override the\n",
       "     default hidden behavior on the sphinx rendered scikit-learn.org.\n",
       "     See: https://github.com/scikit-learn/scikit-learn/issues/21755 */\n",
       "  display: inline-block !important;\n",
       "  position: relative;\n",
       "}\n",
       "\n",
       "#sk-container-id-2 div.sk-text-repr-fallback {\n",
       "  display: none;\n",
       "}\n",
       "\n",
       "div.sk-parallel-item,\n",
       "div.sk-serial,\n",
       "div.sk-item {\n",
       "  /* draw centered vertical line to link estimators */\n",
       "  background-image: linear-gradient(var(--sklearn-color-text-on-default-background), var(--sklearn-color-text-on-default-background));\n",
       "  background-size: 2px 100%;\n",
       "  background-repeat: no-repeat;\n",
       "  background-position: center center;\n",
       "}\n",
       "\n",
       "/* Parallel-specific style estimator block */\n",
       "\n",
       "#sk-container-id-2 div.sk-parallel-item::after {\n",
       "  content: \"\";\n",
       "  width: 100%;\n",
       "  border-bottom: 2px solid var(--sklearn-color-text-on-default-background);\n",
       "  flex-grow: 1;\n",
       "}\n",
       "\n",
       "#sk-container-id-2 div.sk-parallel {\n",
       "  display: flex;\n",
       "  align-items: stretch;\n",
       "  justify-content: center;\n",
       "  background-color: var(--sklearn-color-background);\n",
       "  position: relative;\n",
       "}\n",
       "\n",
       "#sk-container-id-2 div.sk-parallel-item {\n",
       "  display: flex;\n",
       "  flex-direction: column;\n",
       "}\n",
       "\n",
       "#sk-container-id-2 div.sk-parallel-item:first-child::after {\n",
       "  align-self: flex-end;\n",
       "  width: 50%;\n",
       "}\n",
       "\n",
       "#sk-container-id-2 div.sk-parallel-item:last-child::after {\n",
       "  align-self: flex-start;\n",
       "  width: 50%;\n",
       "}\n",
       "\n",
       "#sk-container-id-2 div.sk-parallel-item:only-child::after {\n",
       "  width: 0;\n",
       "}\n",
       "\n",
       "/* Serial-specific style estimator block */\n",
       "\n",
       "#sk-container-id-2 div.sk-serial {\n",
       "  display: flex;\n",
       "  flex-direction: column;\n",
       "  align-items: center;\n",
       "  background-color: var(--sklearn-color-background);\n",
       "  padding-right: 1em;\n",
       "  padding-left: 1em;\n",
       "}\n",
       "\n",
       "\n",
       "/* Toggleable style: style used for estimator/Pipeline/ColumnTransformer box that is\n",
       "clickable and can be expanded/collapsed.\n",
       "- Pipeline and ColumnTransformer use this feature and define the default style\n",
       "- Estimators will overwrite some part of the style using the `sk-estimator` class\n",
       "*/\n",
       "\n",
       "/* Pipeline and ColumnTransformer style (default) */\n",
       "\n",
       "#sk-container-id-2 div.sk-toggleable {\n",
       "  /* Default theme specific background. It is overwritten whether we have a\n",
       "  specific estimator or a Pipeline/ColumnTransformer */\n",
       "  background-color: var(--sklearn-color-background);\n",
       "}\n",
       "\n",
       "/* Toggleable label */\n",
       "#sk-container-id-2 label.sk-toggleable__label {\n",
       "  cursor: pointer;\n",
       "  display: flex;\n",
       "  width: 100%;\n",
       "  margin-bottom: 0;\n",
       "  padding: 0.5em;\n",
       "  box-sizing: border-box;\n",
       "  text-align: center;\n",
       "  align-items: start;\n",
       "  justify-content: space-between;\n",
       "  gap: 0.5em;\n",
       "}\n",
       "\n",
       "#sk-container-id-2 label.sk-toggleable__label .caption {\n",
       "  font-size: 0.6rem;\n",
       "  font-weight: lighter;\n",
       "  color: var(--sklearn-color-text-muted);\n",
       "}\n",
       "\n",
       "#sk-container-id-2 label.sk-toggleable__label-arrow:before {\n",
       "  /* Arrow on the left of the label */\n",
       "  content: \"▸\";\n",
       "  float: left;\n",
       "  margin-right: 0.25em;\n",
       "  color: var(--sklearn-color-icon);\n",
       "}\n",
       "\n",
       "#sk-container-id-2 label.sk-toggleable__label-arrow:hover:before {\n",
       "  color: var(--sklearn-color-text);\n",
       "}\n",
       "\n",
       "/* Toggleable content - dropdown */\n",
       "\n",
       "#sk-container-id-2 div.sk-toggleable__content {\n",
       "  max-height: 0;\n",
       "  max-width: 0;\n",
       "  overflow: hidden;\n",
       "  text-align: left;\n",
       "  /* unfitted */\n",
       "  background-color: var(--sklearn-color-unfitted-level-0);\n",
       "}\n",
       "\n",
       "#sk-container-id-2 div.sk-toggleable__content.fitted {\n",
       "  /* fitted */\n",
       "  background-color: var(--sklearn-color-fitted-level-0);\n",
       "}\n",
       "\n",
       "#sk-container-id-2 div.sk-toggleable__content pre {\n",
       "  margin: 0.2em;\n",
       "  border-radius: 0.25em;\n",
       "  color: var(--sklearn-color-text);\n",
       "  /* unfitted */\n",
       "  background-color: var(--sklearn-color-unfitted-level-0);\n",
       "}\n",
       "\n",
       "#sk-container-id-2 div.sk-toggleable__content.fitted pre {\n",
       "  /* unfitted */\n",
       "  background-color: var(--sklearn-color-fitted-level-0);\n",
       "}\n",
       "\n",
       "#sk-container-id-2 input.sk-toggleable__control:checked~div.sk-toggleable__content {\n",
       "  /* Expand drop-down */\n",
       "  max-height: 200px;\n",
       "  max-width: 100%;\n",
       "  overflow: auto;\n",
       "}\n",
       "\n",
       "#sk-container-id-2 input.sk-toggleable__control:checked~label.sk-toggleable__label-arrow:before {\n",
       "  content: \"▾\";\n",
       "}\n",
       "\n",
       "/* Pipeline/ColumnTransformer-specific style */\n",
       "\n",
       "#sk-container-id-2 div.sk-label input.sk-toggleable__control:checked~label.sk-toggleable__label {\n",
       "  color: var(--sklearn-color-text);\n",
       "  background-color: var(--sklearn-color-unfitted-level-2);\n",
       "}\n",
       "\n",
       "#sk-container-id-2 div.sk-label.fitted input.sk-toggleable__control:checked~label.sk-toggleable__label {\n",
       "  background-color: var(--sklearn-color-fitted-level-2);\n",
       "}\n",
       "\n",
       "/* Estimator-specific style */\n",
       "\n",
       "/* Colorize estimator box */\n",
       "#sk-container-id-2 div.sk-estimator input.sk-toggleable__control:checked~label.sk-toggleable__label {\n",
       "  /* unfitted */\n",
       "  background-color: var(--sklearn-color-unfitted-level-2);\n",
       "}\n",
       "\n",
       "#sk-container-id-2 div.sk-estimator.fitted input.sk-toggleable__control:checked~label.sk-toggleable__label {\n",
       "  /* fitted */\n",
       "  background-color: var(--sklearn-color-fitted-level-2);\n",
       "}\n",
       "\n",
       "#sk-container-id-2 div.sk-label label.sk-toggleable__label,\n",
       "#sk-container-id-2 div.sk-label label {\n",
       "  /* The background is the default theme color */\n",
       "  color: var(--sklearn-color-text-on-default-background);\n",
       "}\n",
       "\n",
       "/* On hover, darken the color of the background */\n",
       "#sk-container-id-2 div.sk-label:hover label.sk-toggleable__label {\n",
       "  color: var(--sklearn-color-text);\n",
       "  background-color: var(--sklearn-color-unfitted-level-2);\n",
       "}\n",
       "\n",
       "/* Label box, darken color on hover, fitted */\n",
       "#sk-container-id-2 div.sk-label.fitted:hover label.sk-toggleable__label.fitted {\n",
       "  color: var(--sklearn-color-text);\n",
       "  background-color: var(--sklearn-color-fitted-level-2);\n",
       "}\n",
       "\n",
       "/* Estimator label */\n",
       "\n",
       "#sk-container-id-2 div.sk-label label {\n",
       "  font-family: monospace;\n",
       "  font-weight: bold;\n",
       "  display: inline-block;\n",
       "  line-height: 1.2em;\n",
       "}\n",
       "\n",
       "#sk-container-id-2 div.sk-label-container {\n",
       "  text-align: center;\n",
       "}\n",
       "\n",
       "/* Estimator-specific */\n",
       "#sk-container-id-2 div.sk-estimator {\n",
       "  font-family: monospace;\n",
       "  border: 1px dotted var(--sklearn-color-border-box);\n",
       "  border-radius: 0.25em;\n",
       "  box-sizing: border-box;\n",
       "  margin-bottom: 0.5em;\n",
       "  /* unfitted */\n",
       "  background-color: var(--sklearn-color-unfitted-level-0);\n",
       "}\n",
       "\n",
       "#sk-container-id-2 div.sk-estimator.fitted {\n",
       "  /* fitted */\n",
       "  background-color: var(--sklearn-color-fitted-level-0);\n",
       "}\n",
       "\n",
       "/* on hover */\n",
       "#sk-container-id-2 div.sk-estimator:hover {\n",
       "  /* unfitted */\n",
       "  background-color: var(--sklearn-color-unfitted-level-2);\n",
       "}\n",
       "\n",
       "#sk-container-id-2 div.sk-estimator.fitted:hover {\n",
       "  /* fitted */\n",
       "  background-color: var(--sklearn-color-fitted-level-2);\n",
       "}\n",
       "\n",
       "/* Specification for estimator info (e.g. \"i\" and \"?\") */\n",
       "\n",
       "/* Common style for \"i\" and \"?\" */\n",
       "\n",
       ".sk-estimator-doc-link,\n",
       "a:link.sk-estimator-doc-link,\n",
       "a:visited.sk-estimator-doc-link {\n",
       "  float: right;\n",
       "  font-size: smaller;\n",
       "  line-height: 1em;\n",
       "  font-family: monospace;\n",
       "  background-color: var(--sklearn-color-background);\n",
       "  border-radius: 1em;\n",
       "  height: 1em;\n",
       "  width: 1em;\n",
       "  text-decoration: none !important;\n",
       "  margin-left: 0.5em;\n",
       "  text-align: center;\n",
       "  /* unfitted */\n",
       "  border: var(--sklearn-color-unfitted-level-1) 1pt solid;\n",
       "  color: var(--sklearn-color-unfitted-level-1);\n",
       "}\n",
       "\n",
       ".sk-estimator-doc-link.fitted,\n",
       "a:link.sk-estimator-doc-link.fitted,\n",
       "a:visited.sk-estimator-doc-link.fitted {\n",
       "  /* fitted */\n",
       "  border: var(--sklearn-color-fitted-level-1) 1pt solid;\n",
       "  color: var(--sklearn-color-fitted-level-1);\n",
       "}\n",
       "\n",
       "/* On hover */\n",
       "div.sk-estimator:hover .sk-estimator-doc-link:hover,\n",
       ".sk-estimator-doc-link:hover,\n",
       "div.sk-label-container:hover .sk-estimator-doc-link:hover,\n",
       ".sk-estimator-doc-link:hover {\n",
       "  /* unfitted */\n",
       "  background-color: var(--sklearn-color-unfitted-level-3);\n",
       "  color: var(--sklearn-color-background);\n",
       "  text-decoration: none;\n",
       "}\n",
       "\n",
       "div.sk-estimator.fitted:hover .sk-estimator-doc-link.fitted:hover,\n",
       ".sk-estimator-doc-link.fitted:hover,\n",
       "div.sk-label-container:hover .sk-estimator-doc-link.fitted:hover,\n",
       ".sk-estimator-doc-link.fitted:hover {\n",
       "  /* fitted */\n",
       "  background-color: var(--sklearn-color-fitted-level-3);\n",
       "  color: var(--sklearn-color-background);\n",
       "  text-decoration: none;\n",
       "}\n",
       "\n",
       "/* Span, style for the box shown on hovering the info icon */\n",
       ".sk-estimator-doc-link span {\n",
       "  display: none;\n",
       "  z-index: 9999;\n",
       "  position: relative;\n",
       "  font-weight: normal;\n",
       "  right: .2ex;\n",
       "  padding: .5ex;\n",
       "  margin: .5ex;\n",
       "  width: min-content;\n",
       "  min-width: 20ex;\n",
       "  max-width: 50ex;\n",
       "  color: var(--sklearn-color-text);\n",
       "  box-shadow: 2pt 2pt 4pt #999;\n",
       "  /* unfitted */\n",
       "  background: var(--sklearn-color-unfitted-level-0);\n",
       "  border: .5pt solid var(--sklearn-color-unfitted-level-3);\n",
       "}\n",
       "\n",
       ".sk-estimator-doc-link.fitted span {\n",
       "  /* fitted */\n",
       "  background: var(--sklearn-color-fitted-level-0);\n",
       "  border: var(--sklearn-color-fitted-level-3);\n",
       "}\n",
       "\n",
       ".sk-estimator-doc-link:hover span {\n",
       "  display: block;\n",
       "}\n",
       "\n",
       "/* \"?\"-specific style due to the `<a>` HTML tag */\n",
       "\n",
       "#sk-container-id-2 a.estimator_doc_link {\n",
       "  float: right;\n",
       "  font-size: 1rem;\n",
       "  line-height: 1em;\n",
       "  font-family: monospace;\n",
       "  background-color: var(--sklearn-color-background);\n",
       "  border-radius: 1rem;\n",
       "  height: 1rem;\n",
       "  width: 1rem;\n",
       "  text-decoration: none;\n",
       "  /* unfitted */\n",
       "  color: var(--sklearn-color-unfitted-level-1);\n",
       "  border: var(--sklearn-color-unfitted-level-1) 1pt solid;\n",
       "}\n",
       "\n",
       "#sk-container-id-2 a.estimator_doc_link.fitted {\n",
       "  /* fitted */\n",
       "  border: var(--sklearn-color-fitted-level-1) 1pt solid;\n",
       "  color: var(--sklearn-color-fitted-level-1);\n",
       "}\n",
       "\n",
       "/* On hover */\n",
       "#sk-container-id-2 a.estimator_doc_link:hover {\n",
       "  /* unfitted */\n",
       "  background-color: var(--sklearn-color-unfitted-level-3);\n",
       "  color: var(--sklearn-color-background);\n",
       "  text-decoration: none;\n",
       "}\n",
       "\n",
       "#sk-container-id-2 a.estimator_doc_link.fitted:hover {\n",
       "  /* fitted */\n",
       "  background-color: var(--sklearn-color-fitted-level-3);\n",
       "}\n",
       "</style><div id=\"sk-container-id-2\" class=\"sk-top-container\"><div class=\"sk-text-repr-fallback\"><pre>LGBMClassifier(bagging_fraction=0.8827946786278817, bagging_freq=2,\n",
       "               feature_fraction=0.6514564127326442,\n",
       "               learning_rate=0.061503873955098765, metric=&#x27;average_precision&#x27;,\n",
       "               min_child_samples=99, num_leaves=100, objective=&#x27;binary&#x27;,\n",
       "               reg_alpha=2.195634618382334, reg_lambda=1.845241969413674,\n",
       "               scale_pos_weight=21.703221809169765, seed=42, verbosity=-1)</pre><b>In a Jupyter environment, please rerun this cell to show the HTML representation or trust the notebook. <br />On GitHub, the HTML representation is unable to render, please try loading this page with nbviewer.org.</b></div><div class=\"sk-container\" hidden><div class=\"sk-item\"><div class=\"sk-estimator fitted sk-toggleable\"><input class=\"sk-toggleable__control sk-hidden--visually\" id=\"sk-estimator-id-2\" type=\"checkbox\" checked><label for=\"sk-estimator-id-2\" class=\"sk-toggleable__label fitted sk-toggleable__label-arrow\"><div><div>LGBMClassifier</div></div><div><span class=\"sk-estimator-doc-link fitted\">i<span>Fitted</span></span></div></label><div class=\"sk-toggleable__content fitted\"><pre>LGBMClassifier(bagging_fraction=0.8827946786278817, bagging_freq=2,\n",
       "               feature_fraction=0.6514564127326442,\n",
       "               learning_rate=0.061503873955098765, metric=&#x27;average_precision&#x27;,\n",
       "               min_child_samples=99, num_leaves=100, objective=&#x27;binary&#x27;,\n",
       "               reg_alpha=2.195634618382334, reg_lambda=1.845241969413674,\n",
       "               scale_pos_weight=21.703221809169765, seed=42, verbosity=-1)</pre></div> </div></div></div></div>"
      ],
      "text/plain": [
       "LGBMClassifier(bagging_fraction=0.8827946786278817, bagging_freq=2,\n",
       "               feature_fraction=0.6514564127326442,\n",
       "               learning_rate=0.061503873955098765, metric='average_precision',\n",
       "               min_child_samples=99, num_leaves=100, objective='binary',\n",
       "               reg_alpha=2.195634618382334, reg_lambda=1.845241969413674,\n",
       "               scale_pos_weight=21.703221809169765, seed=42, verbosity=-1)"
      ]
     },
     "execution_count": 44,
     "metadata": {},
     "output_type": "execute_result"
    }
   ],
   "source": [
    "final_model = lgb.LGBMClassifier(**best_params)\n",
    "final_model.fit(X_train, y_train)"
   ]
  },
  {
   "cell_type": "markdown",
   "id": "f534711b",
   "metadata": {},
   "source": [
    "## Generating ensemble predictions (average of CV models)"
   ]
  },
  {
   "cell_type": "code",
   "execution_count": 45,
   "id": "6b7fccb6",
   "metadata": {},
   "outputs": [],
   "source": [
    "cv_test_preds = np.zeros(len(X_test))\n",
    "for model in cv_models:\n",
    "    cv_test_preds += model.predict_proba(X_test)[:, 1]\n",
    "cv_test_preds /= len(cv_models)"
   ]
  },
  {
   "cell_type": "markdown",
   "id": "4c017daf",
   "metadata": {},
   "source": [
    "## Generating single model predictions"
   ]
  },
  {
   "cell_type": "code",
   "execution_count": 46,
   "id": "0a177a53",
   "metadata": {},
   "outputs": [],
   "source": [
    "single_test_preds = final_model.predict_proba(X_test)[:, 1]"
   ]
  },
  {
   "cell_type": "markdown",
   "id": "1db7e500",
   "metadata": {},
   "source": [
    "### Trying different ensemble weights to find optimal blend"
   ]
  },
  {
   "cell_type": "code",
   "execution_count": 47,
   "id": "bd955154",
   "metadata": {},
   "outputs": [],
   "source": [
    "blend_weights = [0.5, 0.6, 0.7, 0.8, 0.9]\n",
    "blend_preds_dict = {}\n",
    "for weight in blend_weights:\n",
    "    blend_preds_dict[weight] = weight * cv_test_preds + (1-weight) * single_test_preds"
   ]
  },
  {
   "cell_type": "markdown",
   "id": "76f4bbab",
   "metadata": {},
   "source": [
    "### Defaulting to 0.8 weight for ensemble"
   ]
  },
  {
   "cell_type": "code",
   "execution_count": 48,
   "id": "50dc3bd7",
   "metadata": {},
   "outputs": [],
   "source": [
    "probabilities = 0.8 * cv_test_preds + 0.2 * single_test_preds"
   ]
  },
  {
   "cell_type": "markdown",
   "id": "d6798663",
   "metadata": {},
   "source": [
    "## Feature importance analysis"
   ]
  },
  {
   "cell_type": "code",
   "execution_count": 49,
   "id": "28d4d605",
   "metadata": {},
   "outputs": [
    {
     "name": "stdout",
     "output_type": "stream",
     "text": [
      "Top 20 features by importance:\n",
      "                   Feature  Importance\n",
      "0                   LeadID         993\n",
      "6            InterestModel         896\n",
      "1                   Dealer         756\n",
      "2               LeadSource         653\n",
      "8               CellPrefix         623\n",
      "27         LeadSource_freq         620\n",
      "10           HourOfEnquiry         615\n",
      "11            DayOfEnquiry         610\n",
      "5             InterestMake         585\n",
      "28        Lag_per_EmailLen         553\n",
      "20      AllocationLagHours         550\n",
      "24   LeadCreationHour_freq         499\n",
      "13         LeadCreationDay         332\n",
      "15  LeadCreationDayOfMonth         257\n",
      "7                   Domain         216\n",
      "26             Domain_freq         197\n",
      "25    LeadCreationDay_freq         191\n",
      "3                 LeadType         186\n",
      "21    AllocationLagMinutes         163\n",
      "12        LeadCreationHour         150\n"
     ]
    }
   ],
   "source": [
    "feature_importance = pd.DataFrame({\n",
    "    'Feature': X_train.columns,\n",
    "    'Importance': final_model.feature_importances_\n",
    "}).sort_values(by='Importance', ascending=False)\n",
    "print(\"Top 20 features by importance:\")\n",
    "print(feature_importance.head(20))"
   ]
  },
  {
   "cell_type": "markdown",
   "id": "6977eb47",
   "metadata": {},
   "source": [
    "## Predicting On Test Data"
   ]
  },
  {
   "cell_type": "code",
   "execution_count": 50,
   "id": "a988c9fa",
   "metadata": {},
   "outputs": [],
   "source": [
    "dfTest[\"LeadID\"] = dfTest[\"LeadID\"].astype(int)"
   ]
  },
  {
   "cell_type": "code",
   "execution_count": 51,
   "id": "9da75941",
   "metadata": {},
   "outputs": [],
   "source": [
    "def save_submission(df: pd.DataFrame, probs: pd.Series | np.ndarray):\n",
    "    \"\"\"\n",
    "    Writes the CSV exactly as the leaderboard expects.\n",
    "    \"\"\"\n",
    "    out = pd.DataFrame(\n",
    "        {\n",
    "            \"LeadID\":                 df[\"LeadID\"].values,\n",
    "            \"VehicleSoldProbability\": probs\n",
    "        }\n",
    "    )\n",
    "\n",
    "    # minimal sanity checks\n",
    "    assert len(out) == len(df),                \"Length mismatch.\"\n",
    "    assert out[\"VehicleSoldProbability\"].between(0, 1).all(), \"Probs out of range.\"\n",
    "    assert out[\"LeadID\"].is_unique,            \"Duplicate LeadID values.\"\n",
    "    assert not out.isna().any().any(),         \"NaNs detected.\"\n",
    "\n",
    "    fname = f\"submission.csv\"\n",
    "    out.to_csv(fname, index=False)\n",
    "\n",
    "save_submission(dfTest, probabilities)"
   ]
  }
 ],
 "metadata": {
  "kernelspec": {
   "display_name": "Python 3",
   "language": "python",
   "name": "python3"
  },
  "language_info": {
   "codemirror_mode": {
    "name": "ipython",
    "version": 3
   },
   "file_extension": ".py",
   "mimetype": "text/x-python",
   "name": "python",
   "nbconvert_exporter": "python",
   "pygments_lexer": "ipython3",
   "version": "3.11.9"
  }
 },
 "nbformat": 4,
 "nbformat_minor": 5
}
